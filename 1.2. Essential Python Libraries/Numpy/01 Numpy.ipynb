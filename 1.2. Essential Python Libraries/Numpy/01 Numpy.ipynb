{
 "cells": [
  {
   "cell_type": "markdown",
   "metadata": {},
   "source": [
    "---\n",
    "<div style=\"text-align: center; font-family: 'Times New Roman', Times, serif;\">\n",
    "  <h1>Python</h1>\n",
    " <h1>Numpy</h1>\n",
    " <div> Note Book Author: Shahzaib Yaqoob<div>\n",
    " <div> Gmail :shahzaibmalik4488gmail.com<hdiv5> \n",
    " \n",
    " ---\n",
    "</div>\n"
   ]
  },
  {
   "cell_type": "code",
   "execution_count": 90,
   "metadata": {},
   "outputs": [],
   "source": [
    "import numpy as np"
   ]
  },
  {
   "cell_type": "code",
   "execution_count": 91,
   "metadata": {},
   "outputs": [],
   "source": [
    "Array_data=np.array([1,2,3,4,5,6])"
   ]
  },
  {
   "cell_type": "code",
   "execution_count": 92,
   "metadata": {},
   "outputs": [
    {
     "data": {
      "text/plain": [
       "array([1, 2, 3, 4, 5, 6])"
      ]
     },
     "execution_count": 92,
     "metadata": {},
     "output_type": "execute_result"
    }
   ],
   "source": [
    "Array_data"
   ]
  },
  {
   "cell_type": "markdown",
   "metadata": {},
   "source": [
    "<div style=\"font-family: 'Times New Roman', Times, serif;\">\n",
    "  <h3 style=\"text-align: center;\">Types of Array</h3>\n",
    "  <div style=\"margin-left: 4mm;\">- 1D (One Dimensional Array)</div>\n",
    "  <div style=\"margin-left: 4mm;\">- 2D (Two Dimensional Array)</div>\n",
    "  <div style=\"margin-left: 4mm;\">- 3D (Three Dimensional)</div>\n"
   ]
  },
  {
   "cell_type": "code",
   "execution_count": 93,
   "metadata": {},
   "outputs": [
    {
     "data": {
      "text/plain": [
       "array([1, 2, 3, 4, 5, 6])"
      ]
     },
     "execution_count": 93,
     "metadata": {},
     "output_type": "execute_result"
    }
   ],
   "source": [
    "# 1D Array\n",
    "Data_Array1=np.array([1,2,3,4,5,6])\n",
    "Data_Array1"
   ]
  },
  {
   "cell_type": "code",
   "execution_count": 94,
   "metadata": {},
   "outputs": [
    {
     "data": {
      "text/plain": [
       "array([[1, 2, 3, 4],\n",
       "       [5, 6, 7, 8]])"
      ]
     },
     "execution_count": 94,
     "metadata": {},
     "output_type": "execute_result"
    }
   ],
   "source": [
    "# 2D Array\n",
    "data_Array2=np.array([[1,2,3,4,],[5,6,7,8]]) # create Array 2 X 2\n",
    "data_Array2"
   ]
  },
  {
   "cell_type": "code",
   "execution_count": 95,
   "metadata": {},
   "outputs": [
    {
     "data": {
      "text/plain": [
       "array([[[1. , 2. , 3.4],\n",
       "        [1. , 2. , 3.4],\n",
       "        [1. , 2. , 3.4]],\n",
       "\n",
       "       [[4. , 5. , 6.7],\n",
       "        [4. , 5. , 6.7],\n",
       "        [4. , 5. , 6.7]]])"
      ]
     },
     "execution_count": 95,
     "metadata": {},
     "output_type": "execute_result"
    }
   ],
   "source": [
    "# 3D Array\n",
    "data_Array3 = np.array([[[1, 2, 3.4], [1, 2, 3.4], [1, 2, 3.4]],[[4, 5, 6.7], [4, 5, 6.7], [4, 5, 6.7]]])\n",
    "data_Array3"
   ]
  }
 ],
 "metadata": {
  "kernelspec": {
   "display_name": "Python_ML",
   "language": "python",
   "name": "python3"
  },
  "language_info": {
   "codemirror_mode": {
    "name": "ipython",
    "version": 3
   },
   "file_extension": ".py",
   "mimetype": "text/x-python",
   "name": "python",
   "nbconvert_exporter": "python",
   "pygments_lexer": "ipython3",
   "version": "3.12.0"
  }
 },
 "nbformat": 4,
 "nbformat_minor": 2
}
