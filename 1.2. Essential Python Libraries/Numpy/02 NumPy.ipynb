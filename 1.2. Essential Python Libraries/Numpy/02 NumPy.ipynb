{
 "cells": [
  {
   "cell_type": "markdown",
   "metadata": {},
   "source": [
    "---\n",
    "<div style=\"text-align: center; font-family: 'Times New Roman', Times, serif;\">\n",
    "  <h1>Python</h1>\n",
    " <h1>Numpy</h1>\n",
    " <div> Note Book Author: Shahzaib Yaqoob<div>\n",
    " <div> Gmail :shahzaibmalik4488gmail.com<hdiv5> \n",
    " \n",
    " ---\n",
    "</div>\n"
   ]
  },
  {
   "cell_type": "markdown",
   "metadata": {},
   "source": [
    "## NumPy Array Creation Functions\n",
    "\n",
    "This section covers several NumPy functions for creating arrays:\n",
    "\n",
    "- **`np.array()`**: Create an array from a Python list or iterable.\n",
    "\n",
    "- **`np.zeros()`**: Create an array filled with zeros.\n",
    "\n",
    "- **`np.ones()`**: Create an array filled with ones.\n",
    "\n",
    "- **`np.empty()`**: Create an array without initializing its values.\n",
    "\n",
    "- **`np.arange()`**: Create an array with regularly spaced values.\n",
    "\n",
    "- **`np.linspace()`**: Create an array with evenly spaced values over a specified range.\n",
    "\n",
    "- **`dtype`**: Attribute indicating the data type of the array elements.\n"
   ]
  },
  {
   "cell_type": "code",
   "execution_count": 10,
   "metadata": {},
   "outputs": [],
   "source": [
    "import numpy as np"
   ]
  },
  {
   "cell_type": "code",
   "execution_count": 11,
   "metadata": {},
   "outputs": [
    {
     "name": "stdout",
     "output_type": "stream",
     "text": [
      "Array        : [1 2 3 4 5 6]\n",
      "np.zeros(6)  :  [0. 0. 0. 0. 0. 0.]\n",
      "np.ones(6)   :  [1. 1. 1. 1. 1. 1.]\n",
      "np.empty()   :  [ 4.27521809e+244 -2.64210566e-190]\n",
      "np.arange()  :  [5 6 7 8 9]\n",
      "np.linspace():  [ 1.    3.25  5.5   7.75 10.  ]\n",
      "np.dtype()   :  float64\n"
     ]
    }
   ],
   "source": [
    "# np.array()\n",
    "print(\"Array        :\",np.array([1,2,3,4,5,6]))\n",
    "\n",
    "# np.zeros()\n",
    "print(\"np.zeros(6)  : \",np.zeros(6))\n",
    "\n",
    "# np.ones()\n",
    "print(\"np.ones(6)   : \",np.ones(6))\n",
    "\n",
    "# np.empty()\n",
    "print(\"np.empty()   : \",np.empty(2)) \n",
    "\n",
    "#np.arange()\n",
    "print(\"np.arange()  : \", np.arange(5, 10))\n",
    "\n",
    "# np.linespace()\n",
    "print(\"np.linspace(): \",np.linspace(1,10,5))\n",
    "\n",
    "# Create an array with specified data type (float64)\n",
    "print(\"np.dtype()   : \",  np.array([1, 2, 3, 4, 5, 6], dtype=np.float64).dtype) "
   ]
  },
  {
   "cell_type": "markdown",
   "metadata": {},
   "source": [
    "## Sorting ,Adding, and Removing\n",
    "\n",
    "This section covers some useful NumPy functions for adding, removing, and sorting elements in arrays.\n",
    "\n",
    "- **`np.sort()`**: Sort the elements of an array along a specified axis. You can customize the sorting behavior by specifying parameters such as the axis, kind, and order.\n",
    "\n",
    "- **`np.concatenate()`**: Concatenation is like combining or joining multiple arrays together. It's like putting them side by side. The np.concatenate() function helps to do this in Python..\n"
   ]
  },
  {
   "cell_type": "code",
   "execution_count": 12,
   "metadata": {},
   "outputs": [
    {
     "name": "stdout",
     "output_type": "stream",
     "text": [
      "Original Array: [3 1 4 1 5 9 2 6 5 3 5]\n",
      "----------------------------------------\n",
      "Sorted Array: [1 1 2 3 3 4 5 5 5 6 9]\n"
     ]
    }
   ],
   "source": [
    "#np.sort()\n",
    "array_to_sort = np.array([3, 1, 4, 1, 5, 9, 2, 6, 5, 3, 5])\n",
    "sorted_array = np.sort(array_to_sort)\n",
    "print(\"Original Array:\", array_to_sort)\n",
    "print(\"----------------------------------------\")\n",
    "print(\"Sorted Array:\", sorted_array)"
   ]
  },
  {
   "cell_type": "code",
   "execution_count": 13,
   "metadata": {},
   "outputs": [
    {
     "name": "stdout",
     "output_type": "stream",
     "text": [
      "Array 1 :  [1 2 3]\n",
      "Array 2 :  [4 5 6]\n",
      "----------------------------------------\n",
      "Concatenated Array :  [1 2 3 4 5 6]\n"
     ]
    }
   ],
   "source": [
    "#np.concatenated Array\n",
    "array1 = np.array([1, 2, 3])\n",
    "array2 = np.array([4, 5, 6])\n",
    "concatenated_array = np.concatenate((array1, array2))\n",
    "print(\"Array 1 : \", array1)\n",
    "print(\"Array 2 : \", array2)\n",
    "print(\"----------------------------------------\")\n",
    "print(\"Concatenated Array : \", concatenated_array)"
   ]
  },
  {
   "cell_type": "markdown",
   "metadata": {},
   "source": [
    "## Understanding Array Attributes\n",
    "\n",
    "In this section, we will discuss important characteristics of NumPy arrays that give us details about their dimensions and size.\n",
    "- **`ndarray.shape`**: The ndarray.shape attribute returns a tuple with the array's dimensions.\n",
    "\n",
    "- **`ndarray.ndim`**: Returns the number of dimensions (axes) of the array.\n",
    "\n",
    "- **`ndarray.size`**: Returns the total number of elements in the array.\n",
    "\n",
    "\n",
    "### `ndarray.ndim`\n",
    "\n",
    "`ndarray.ndim` This attribute provides important details about the array's structure."
   ]
  },
  {
   "cell_type": "code",
   "execution_count": 23,
   "metadata": {},
   "outputs": [
    {
     "name": "stdout",
     "output_type": "stream",
     "text": [
      "Shape of Array:  (2, 6)\n",
      "Size of Array:  12\n"
     ]
    }
   ],
   "source": [
    "# ndarray.shape()\n",
    "Array=np.array([[1,2,3,4,5,6],[7,8,9,10,11,12]])\n",
    "print(\"Shape of Array: \",Array.shape)\n",
    "# nd.size()\n",
    "print(\"Size of Array: \",Array.size)"
   ]
  },
  {
   "cell_type": "markdown",
   "metadata": {},
   "source": [
    "## Reshaping Arrays\n",
    "\n",
    "You can change the dimensions of an array while keeping the same total number of elements by reshaping it.NumPy provides the `reshape()` function for this purpose.\n",
    "\n",
    "### `np.reshape()`\n",
    "\n",
    "The `np.reshape()` function is used to change the shape of an array without changing its data\n"
   ]
  },
  {
   "cell_type": "code",
   "execution_count": 30,
   "metadata": {},
   "outputs": [
    {
     "name": "stdout",
     "output_type": "stream",
     "text": [
      "Original Array:\n",
      "[1 2 3 4 5 6]\n",
      "---------------------\n",
      "Reshaped Array:\n",
      "[[1 2]\n",
      " [3 4]\n",
      " [5 6]]\n"
     ]
    }
   ],
   "source": [
    "# Original array\n",
    "original_array = np.array([1, 2, 3, 4, 5, 6])\n",
    "\n",
    "# Reshaping to a 2x3 array\n",
    "reshaped_array = original_array.reshape((3,2))\n",
    "\n",
    "print(\"Original Array:\")\n",
    "print(original_array)\n",
    "print(\"---------------------\")\n",
    "print(\"Reshaped Array:\")\n",
    "print(reshaped_array)\n"
   ]
  },
  {
   "cell_type": "code",
   "execution_count": 35,
   "metadata": {},
   "outputs": [
    {
     "name": "stdout",
     "output_type": "stream",
     "text": [
      "Original Array:\n",
      "[1 2 3 4 5 6]\n",
      "Reshaped Array:\n",
      "[[1 2 3]\n",
      " [4 5 6]]\n"
     ]
    }
   ],
   "source": [
    "reshaped_array = np.reshape(original_array, newshape=(2, 3), order='C')\n",
    "\n",
    "print(\"Original Array:\")\n",
    "print(original_array)\n",
    "\n",
    "print(\"Reshaped Array:\")\n",
    "print(reshaped_array)"
   ]
  },
  {
   "cell_type": "markdown",
   "metadata": {},
   "source": [
    "## Indexing and Slicing in NumPy\n",
    "Indexing and slicing are important operations in NumPy that enable you to access and modify elements of arrays.\n",
    "\n",
    "### `Indexing`\n",
    "\n",
    "Indexing is the process of accessing specific elements within an array. In NumPy arrays, the indexing starts at zero, meaning the first element is accessed using an index of 0. To index into an array, square brackets [] are used.\n",
    "### `Slicing` \n",
    "Involves extracting a portion (a subarray) of an array. The basic syntax is start:stop"
   ]
  },
  {
   "cell_type": "code",
   "execution_count": 42,
   "metadata": {},
   "outputs": [
    {
     "name": "stdout",
     "output_type": "stream",
     "text": [
      "Original 1D Array: [1 2 3 4 5]\n",
      "Second Element: 3\n",
      "Array Slicing:  [1 2 3]\n",
      "Array Slicing:  [3 4]\n"
     ]
    }
   ],
   "source": [
    "import numpy as np\n",
    "\n",
    "# Create a 1D array\n",
    "arr_1d = np.array([1, 2, 3, 4, 5])\n",
    "\n",
    "# Access the second element (index 3)\n",
    "print(\"Original 1D Array:\", arr_1d)\n",
    "print(\"Second Element:\", arr_1d[2])\n",
    "\n",
    "print(\"Array Slicing: \",arr_1d[:3])\n",
    "print(\"Array Slicing: \",arr_1d[2:4])\n",
    "\n",
    "\n"
   ]
  },
  {
   "cell_type": "code",
   "execution_count": 50,
   "metadata": {},
   "outputs": [
    {
     "name": "stdout",
     "output_type": "stream",
     "text": [
      "Filter Array :  [1 2]\n",
      "Filter Array :  [ 4  5  6  7  8  9 10]\n"
     ]
    }
   ],
   "source": [
    "filter_Array = np.array([[1 , 2, 3, 4]])\n",
    "print(\"Filter Array : \",filter_Array[filter_Array<3])\n",
    "filter_Array = np.array([[1 , 2, 3, 4], [5, 6, 7, 8], [9, 10, 11, 12]])\n",
    "print(\"Filter Array : \",filter_Array[(filter_Array<11) & (filter_Array>=4)])\n",
    "\n"
   ]
  }
 ],
 "metadata": {
  "kernelspec": {
   "display_name": "Python_ML",
   "language": "python",
   "name": "python3"
  },
  "language_info": {
   "codemirror_mode": {
    "name": "ipython",
    "version": 3
   },
   "file_extension": ".py",
   "mimetype": "text/x-python",
   "name": "python",
   "nbconvert_exporter": "python",
   "pygments_lexer": "ipython3",
   "version": "3.12.0"
  }
 },
 "nbformat": 4,
 "nbformat_minor": 2
}
