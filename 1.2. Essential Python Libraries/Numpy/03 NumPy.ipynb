{
 "cells": [
  {
   "cell_type": "markdown",
   "metadata": {},
   "source": [
    "---\n",
    "<div style=\"text-align: center; font-family: 'Times New Roman', Times, serif;\">\n",
    "  <h1>Python</h1>\n",
    " <h1>Numpy</h1>\n",
    " <div> Note Book Author: Shahzaib Yaqoob<div>\n",
    " <div> Gmail :shahzaibmalik4488gmail.com<hdiv5> \n",
    " \n",
    " ---\n",
    "</div>\n"
   ]
  },
  {
   "cell_type": "code",
   "execution_count": 32,
   "metadata": {},
   "outputs": [],
   "source": [
    "import numpy as np"
   ]
  },
  {
   "cell_type": "markdown",
   "metadata": {},
   "source": [
    "Some NumPy functions  `np.vstack(), np.hstack(), np.hsplit(), and copy()`"
   ]
  },
  {
   "cell_type": "markdown",
   "metadata": {},
   "source": [
    "`np.vstack():` The NumPy function `np.vstack()` is used to concatenate arrays along the vertical axis. The arrays must have the same number of columns.\n",
    "\n",
    "`np.hstack():` Concatenates arrays horizontally (column-wise).\n",
    "\n",
    "`np.hsplit():` This function divides an array at specific positions, splitting it horizontally.\n",
    "\n",
    "`copy():` Creates a copy of an array.\n"
   ]
  },
  {
   "cell_type": "code",
   "execution_count": 33,
   "metadata": {},
   "outputs": [
    {
     "name": "stdout",
     "output_type": "stream",
     "text": [
      "[[5 6]\n",
      " [1 2]\n",
      " [3 4]]\n"
     ]
    }
   ],
   "source": [
    "# np.vstack()\n",
    "arr1 = np.array([[1, 2], [3, 4]])\n",
    "arr2 = np.array([[5, 6]])\n",
    "result = np.vstack((arr2, arr1))\n",
    "print(result)\n"
   ]
  },
  {
   "cell_type": "code",
   "execution_count": 34,
   "metadata": {},
   "outputs": [
    {
     "name": "stdout",
     "output_type": "stream",
     "text": [
      "[[1 2 3 4]\n",
      " [6 7 8 9]]\n"
     ]
    }
   ],
   "source": [
    "# np.hstack()\n",
    "arr1 = np.array([[1, 2],[6,7]])\n",
    "arr2 = np.array([[3, 4],[8,9]])\n",
    "result = np.hstack((arr1, arr2))\n",
    "print(result)"
   ]
  },
  {
   "cell_type": "code",
   "execution_count": 35,
   "metadata": {},
   "outputs": [
    {
     "name": "stdout",
     "output_type": "stream",
     "text": [
      "[array([[1, 2],\n",
      "       [5, 6]]), array([[3, 4],\n",
      "       [7, 8]])]\n"
     ]
    }
   ],
   "source": [
    "# np.hsplit()\n",
    "array = np.array([[1, 2, 3, 4],[5, 6, 7, 8]])\n",
    "# split into 2 parts\n",
    "result = np.hsplit(array,2)\n",
    "print(result)\n"
   ]
  },
  {
   "cell_type": "code",
   "execution_count": 36,
   "metadata": {},
   "outputs": [
    {
     "name": "stdout",
     "output_type": "stream",
     "text": [
      "[[1 2 3 4]\n",
      " [5 6 7 8]]\n"
     ]
    }
   ],
   "source": [
    "# np.copy()\n",
    "array = np.array([[1, 2, 3, 4],[5, 6, 7, 8]])\n",
    "copy = np.copy(array)\n",
    "print(copy)"
   ]
  },
  {
   "cell_type": "markdown",
   "metadata": {},
   "source": [
    "# Basic Array Operations\n",
    "\n",
    "In NumPy, arrays allow for a variety of mathematical operations. \n",
    "\n",
    "Here are some basic array operations:\n",
    "\n",
    "- `Addition`\n",
    "- `Subtraction`\n",
    "- `Multiplication`\n",
    "- `Division`\n"
   ]
  },
  {
   "cell_type": "code",
   "execution_count": 40,
   "metadata": {},
   "outputs": [
    {
     "name": "stdout",
     "output_type": "stream",
     "text": [
      ": Addation : \n",
      " [[ 8 10 12]\n",
      " [14 16 18]] \n",
      "\n",
      ": Substraction : \n",
      " [[-6 -6 -6]\n",
      " [-6 -6 -6]] \n",
      "\n",
      ": Multiplaction : \n",
      " [[ 7 16 27]\n",
      " [40 55 72]] \n",
      "\n",
      ": Division : \n",
      " [[0.14285714 0.25       0.33333333]\n",
      " [0.4        0.45454545 0.5       ]] \n",
      "\n"
     ]
    }
   ],
   "source": [
    "array1 = np.array([[1, 2, 3],\n",
    "                   [4, 5, 6]])\n",
    "\n",
    "array2 = np.array([[7, 8, 9],\n",
    "                   [10, 11, 12]])\n",
    "# Addition\n",
    "result_add = array1 + array2\n",
    "# Substraction\n",
    "result_sub = array1 - array2\n",
    "# Multiplaction\n",
    "result_mull = array1 * array2\n",
    "# Division\n",
    "result_div = array1 / array2\n",
    "\n",
    "print(\": Addation : \\n\",result_add ,\"\\n\")\n",
    "print(\": Substraction : \\n\",result_sub,\"\\n\")\n",
    "print(\": Multiplaction : \\n\",result_mull,\"\\n\")\n",
    "print(\": Division : \\n\",result_div,\"\\n\")"
   ]
  },
  {
   "cell_type": "markdown",
   "metadata": {},
   "source": [
    "## Some additional aggregation functions\n",
    "- `Mean: ` The mean is the sum of all values in a dataset divided by the number of values, representing the average.\n",
    "- `Median: ` The median is the middle value of a dataset when it is ordered. \n",
    "- `Mode: ` The \"most common\" or \"most popular\" value in the dataset.\n",
    "- `Min: ` It represents the lowest numerical value in the dataset.\n",
    "- `Max: ` It represents the greatest numerical value in the dataset.\n",
    "- `Unique: `Function that returns the unique elements of an array,\n",
    "- `flip: `         Reverse an array"
   ]
  },
  {
   "cell_type": "code",
   "execution_count": 67,
   "metadata": {},
   "outputs": [],
   "source": [
    "from scipy import stats"
   ]
  },
  {
   "cell_type": "code",
   "execution_count": 75,
   "metadata": {},
   "outputs": [
    {
     "name": "stdout",
     "output_type": "stream",
     "text": [
      "Mean of Array   : 4.5\n",
      "Medium of Array : 4.5\n",
      "Mode of Array   : 1\n",
      "Min of Array    : 1\n",
      "Max of Array    : 8\n",
      "Unique of Array : [1 2 3 4 5 6 7 8]\n"
     ]
    }
   ],
   "source": [
    "array1 = np.array([1, 2, 3,4,5,6,7,8])\n",
    "print(\"Mean of Array   :\",array1.mean())\n",
    "print(\"Medium of Array :\",np.median(array1))\n",
    "print(\"Mode of Array   :\", stats.mode(array1)[0])\n",
    "print(\"Min of Array    :\", array1.min())\n",
    "print(\"Max of Array    :\", array1.max())\n",
    "print(\"Unique of Array :\", np.unique(array1))\n"
   ]
  }
 ],
 "metadata": {
  "kernelspec": {
   "display_name": "Python_ML",
   "language": "python",
   "name": "python3"
  },
  "language_info": {
   "codemirror_mode": {
    "name": "ipython",
    "version": 3
   },
   "file_extension": ".py",
   "mimetype": "text/x-python",
   "name": "python",
   "nbconvert_exporter": "python",
   "pygments_lexer": "ipython3",
   "version": "3.12.0"
  }
 },
 "nbformat": 4,
 "nbformat_minor": 2
}
