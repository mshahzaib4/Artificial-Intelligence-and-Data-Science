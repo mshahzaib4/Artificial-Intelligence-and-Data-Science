{
 "cells": [
  {
   "cell_type": "code",
   "execution_count": 11,
   "metadata": {},
   "outputs": [],
   "source": [
    "import requests\n",
    "from bs4 import BeautifulSoup\n",
    "import pandas as pd"
   ]
  },
  {
   "cell_type": "code",
   "execution_count": 12,
   "metadata": {},
   "outputs": [
    {
     "name": "stdout",
     "output_type": "stream",
     "text": [
      "Pakistan - Wikipedia\n",
      "Title: Pakistan\n"
     ]
    }
   ],
   "source": [
    "\n",
    "\n",
    "# URL of the Wikipedia page\n",
    "url = \"https://en.wikipedia.org/wiki/Pakistan\"\n",
    "\n",
    "# Send a GET request to the URL\n",
    "response = requests.get(url)\n",
    "\n",
    "soup = BeautifulSoup(response.content, \"html.parser\")\n",
    "    \n",
    "print(soup.title.text)    \n",
    "    \n",
    "print(\"Title:\", title)\n"
   ]
  },
  {
   "cell_type": "code",
   "execution_count": 14,
   "metadata": {},
   "outputs": [
    {
     "data": {
      "text/html": [
       "<div>\n",
       "<style scoped>\n",
       "    .dataframe tbody tr th:only-of-type {\n",
       "        vertical-align: middle;\n",
       "    }\n",
       "\n",
       "    .dataframe tbody tr th {\n",
       "        vertical-align: top;\n",
       "    }\n",
       "\n",
       "    .dataframe thead th {\n",
       "        text-align: right;\n",
       "    }\n",
       "</style>\n",
       "<table border=\"1\" class=\"dataframe\">\n",
       "  <thead>\n",
       "    <tr style=\"text-align: right;\">\n",
       "      <th></th>\n",
       "      <th>0</th>\n",
       "      <th>1</th>\n",
       "      <th>2</th>\n",
       "    </tr>\n",
       "  </thead>\n",
       "  <tbody>\n",
       "    <tr>\n",
       "      <th>0</th>\n",
       "      <td>GDP (PPP)</td>\n",
       "      <td>$1.254 trillion (2019)</td>\n",
       "      <td>[289]</td>\n",
       "    </tr>\n",
       "    <tr>\n",
       "      <th>1</th>\n",
       "      <td>GDP (nominal)</td>\n",
       "      <td>$284.2 billion (2019)</td>\n",
       "      <td>[290]</td>\n",
       "    </tr>\n",
       "    <tr>\n",
       "      <th>2</th>\n",
       "      <td>Real GDP growth</td>\n",
       "      <td>3.29% (2019)</td>\n",
       "      <td>[291]</td>\n",
       "    </tr>\n",
       "    <tr>\n",
       "      <th>3</th>\n",
       "      <td>CPI inflation</td>\n",
       "      <td>10.3% (2019)</td>\n",
       "      <td>[292]</td>\n",
       "    </tr>\n",
       "    <tr>\n",
       "      <th>4</th>\n",
       "      <td>Unemployment</td>\n",
       "      <td>5.7% (2018)</td>\n",
       "      <td>[293]</td>\n",
       "    </tr>\n",
       "    <tr>\n",
       "      <th>5</th>\n",
       "      <td>Labor force participation rate</td>\n",
       "      <td>48.9% (2018)</td>\n",
       "      <td>[294]</td>\n",
       "    </tr>\n",
       "    <tr>\n",
       "      <th>6</th>\n",
       "      <td>Total public debt</td>\n",
       "      <td>$106 billion (2019)</td>\n",
       "      <td></td>\n",
       "    </tr>\n",
       "    <tr>\n",
       "      <th>7</th>\n",
       "      <td>National wealth</td>\n",
       "      <td>$465 billion (2019)</td>\n",
       "      <td>[295]</td>\n",
       "    </tr>\n",
       "  </tbody>\n",
       "</table>\n",
       "</div>"
      ],
      "text/plain": [
       "                                0                       1      2\n",
       "0                       GDP (PPP)  $1.254 trillion (2019)  [289]\n",
       "1                   GDP (nominal)   $284.2 billion (2019)  [290]\n",
       "2                 Real GDP growth            3.29% (2019)  [291]\n",
       "3                   CPI inflation            10.3% (2019)  [292]\n",
       "4                    Unemployment             5.7% (2018)  [293]\n",
       "5  Labor force participation rate            48.9% (2018)  [294]\n",
       "6               Total public debt     $106 billion (2019)       \n",
       "7                 National wealth     $465 billion (2019)  [295]"
      ]
     },
     "execution_count": 14,
     "metadata": {},
     "output_type": "execute_result"
    }
   ],
   "source": [
    "dataframes = []  # List to store all dataframes\n",
    "tables = soup.find_all('table')\n",
    "\n",
    "for i, table in enumerate(tables):\n",
    "    rows = table.find_all('tr')[1:]\n",
    "    data = []\n",
    "    for row in rows:\n",
    "        cols = row.find_all('td')\n",
    "        cols = [col.text.strip() for col in cols]\n",
    "        data.append(cols)\n",
    "    df = pd.DataFrame(data)\n",
    "    dataframes.append(df)\n",
    "\n",
    "dataframes[4]\n"
   ]
  }
 ],
 "metadata": {
  "kernelspec": {
   "display_name": "Web-scrapping",
   "language": "python",
   "name": "python3"
  },
  "language_info": {
   "codemirror_mode": {
    "name": "ipython",
    "version": 3
   },
   "file_extension": ".py",
   "mimetype": "text/x-python",
   "name": "python",
   "nbconvert_exporter": "python",
   "pygments_lexer": "ipython3",
   "version": "3.8.18"
  }
 },
 "nbformat": 4,
 "nbformat_minor": 2
}
