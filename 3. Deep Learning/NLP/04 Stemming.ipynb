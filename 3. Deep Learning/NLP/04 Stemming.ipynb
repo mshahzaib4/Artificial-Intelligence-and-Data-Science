{
 "cells": [
  {
   "cell_type": "code",
   "execution_count": 41,
   "metadata": {},
   "outputs": [],
   "source": [
    "from nltk.stem import PorterStemmer\n",
    "from nltk.tokenize import word_tokenize"
   ]
  },
  {
   "cell_type": "code",
   "execution_count": 42,
   "metadata": {},
   "outputs": [
    {
     "name": "stdout",
     "output_type": "stream",
     "text": [
      "Original Sentence:\n",
      "It is important to be very pythonly while you are pythoning with python. All pythoners have pythoned poorly at least once.\n",
      "\n",
      "Stemmed Sentence:\n",
      "it is import to be veri pythonli while you are python with python . all python have python poorli at least onc .\n"
     ]
    }
   ],
   "source": [
    "sentence = \"It is important to be very pythonly while you are pythoning with python. All pythoners have pythoned poorly at least once.\"\n",
    "\n",
    "# Tokenize the sentence into words\n",
    "words = word_tokenize(sentence)\n",
    "\n",
    "# Stemming each word in the sentence\n",
    "stemmed_words=[]\n",
    "for word in words:\n",
    "    stemmed_words.append(PorterStemmer().stem(word))\n",
    "\n",
    "stemmed_words=\" \".join(stemmed_words)\n",
    "\n",
    "print(\"Original Sentence:\")\n",
    "print(sentence)\n",
    "print(\"\\nStemmed Sentence:\")\n",
    "print(stemmed_words)\n"
   ]
  }
 ],
 "metadata": {
  "kernelspec": {
   "display_name": "tensorflow",
   "language": "python",
   "name": "python3"
  },
  "language_info": {
   "codemirror_mode": {
    "name": "ipython",
    "version": 3
   },
   "file_extension": ".py",
   "mimetype": "text/x-python",
   "name": "python",
   "nbconvert_exporter": "python",
   "pygments_lexer": "ipython3",
   "version": "0.0.0"
  }
 },
 "nbformat": 4,
 "nbformat_minor": 2
}
