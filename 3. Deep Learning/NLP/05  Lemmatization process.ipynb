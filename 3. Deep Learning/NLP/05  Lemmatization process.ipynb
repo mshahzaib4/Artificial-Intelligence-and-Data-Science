{
 "cells": [
  {
   "cell_type": "code",
   "execution_count": 24,
   "metadata": {},
   "outputs": [],
   "source": [
    "from nltk.stem import WordNetLemmatizer\n",
    "from nltk.tokenize import word_tokenize\n",
    "\n",
    "#import nltk\n",
    "#nltk.download('wordnet')\n"
   ]
  },
  {
   "cell_type": "code",
   "execution_count": 32,
   "metadata": {},
   "outputs": [
    {
     "name": "stdout",
     "output_type": "stream",
     "text": [
      "Original Sentence:\n",
      "He is eating apples and playing with the balls\n",
      "\n",
      "Stemmed Sentence:\n",
      "He is eating apple and playing with the ball\n"
     ]
    }
   ],
   "source": [
    "sentence = \"He is eating apples and playing with the balls\"\n",
    "\n",
    "\n",
    "\n",
    "words = word_tokenize(sentence)\n",
    "\n",
    "stemmed_words=[]\n",
    "for word in words:\n",
    "    stemmed_words.append(WordNetLemmatizer().lemmatize(word))\n",
    "\n",
    "stemmed_words=\" \".join(stemmed_words)\n",
    "\n",
    "print(\"Original Sentence:\")\n",
    "print(sentence)\n",
    "print(\"\\nStemmed Sentence:\")\n",
    "print(stemmed_words)\n"
   ]
  }
 ],
 "metadata": {
  "kernelspec": {
   "display_name": "tensorflow",
   "language": "python",
   "name": "python3"
  },
  "language_info": {
   "codemirror_mode": {
    "name": "ipython",
    "version": 3
   },
   "file_extension": ".py",
   "mimetype": "text/x-python",
   "name": "python",
   "nbconvert_exporter": "python",
   "pygments_lexer": "ipython3",
   "version": "0.0.0"
  }
 },
 "nbformat": 4,
 "nbformat_minor": 2
}
