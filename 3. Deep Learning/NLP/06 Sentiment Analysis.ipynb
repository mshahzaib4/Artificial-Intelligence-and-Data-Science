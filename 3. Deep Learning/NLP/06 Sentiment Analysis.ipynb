{
 "cells": [
  {
   "cell_type": "code",
   "execution_count": 16,
   "metadata": {},
   "outputs": [],
   "source": [
    "#import nltk\n",
    "#nltk.download('vader_lexicon')"
   ]
  },
  {
   "cell_type": "code",
   "execution_count": 17,
   "metadata": {},
   "outputs": [],
   "source": [
    "from nltk.sentiment.vader  import SentimentIntensityAnalyzer"
   ]
  },
  {
   "cell_type": "code",
   "execution_count": 18,
   "metadata": {},
   "outputs": [
    {
     "name": "stdout",
     "output_type": "stream",
     "text": [
      "\n",
      "- neg: 0.0 (indicating negativity detected)\n",
      "- neu: 0.518 (indicating neutrality detected)\n",
      "- pos: 0.482 (indicating positivity detected)\n",
      "- compound: 0.9813 (overall compound score)\n"
     ]
    }
   ],
   "source": [
    "text = \"This is an excellent boy. He is kind, intelligent, and always willing to help others. His positive attitude brightens up the room and his sense of humor never fails to make everyone laugh. Everyone is lucky to have him in their lives.\"\n",
    "\n",
    "analyzer = SentimentIntensityAnalyzer()\n",
    "scores = analyzer.polarity_scores(text)\n",
    "\n",
    "print(\"\\n- neg:\", scores['neg'], \"(indicating negativity detected)\")\n",
    "print(\"- neu:\", scores['neu'], \"(indicating neutrality detected)\")\n",
    "print(\"- pos:\", scores['pos'], \"(indicating positivity detected)\")\n",
    "print(\"- compound:\", scores['compound'], \"(overall compound score)\")\n"
   ]
  },
  {
   "cell_type": "code",
   "execution_count": 19,
   "metadata": {},
   "outputs": [
    {
     "name": "stdout",
     "output_type": "stream",
     "text": [
      "\n",
      "- neg: 0.22 (indicating negativity detected)\n",
      "- neu: 0.78 (indicating neutrality detected)\n",
      "- pos: 0.0 (indicating positivity detected)\n",
      "- compound: -0.4767 (overall compound score)\n"
     ]
    }
   ],
   "source": [
    "\n",
    "text=\"He is often dismissive and selfish, showing little regard for others' feelings.\"\n",
    "analyzer = SentimentIntensityAnalyzer()\n",
    "scores = analyzer.polarity_scores(text)\n",
    "\n",
    "print(\"\\n- neg:\", scores['neg'], \"(indicating negativity detected)\")\n",
    "print(\"- neu:\", scores['neu'], \"(indicating neutrality detected)\")\n",
    "print(\"- pos:\", scores['pos'], \"(indicating positivity detected)\")\n",
    "print(\"- compound:\", scores['compound'], \"(overall compound score)\")\n"
   ]
  }
 ],
 "metadata": {
  "kernelspec": {
   "display_name": "tensorflow",
   "language": "python",
   "name": "python3"
  },
  "language_info": {
   "codemirror_mode": {
    "name": "ipython",
    "version": 3
   },
   "file_extension": ".py",
   "mimetype": "text/x-python",
   "name": "python",
   "nbconvert_exporter": "python",
   "pygments_lexer": "ipython3",
   "version": "3.8.18"
  }
 },
 "nbformat": 4,
 "nbformat_minor": 2
}
