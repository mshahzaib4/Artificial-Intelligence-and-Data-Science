{
 "cells": [
  {
   "cell_type": "code",
   "execution_count": 1,
   "metadata": {},
   "outputs": [],
   "source": [
    "\n",
    "import seaborn as sns\n",
    "import pandas as pd\n",
    "import numpy as np\n",
    "\n",
    "from sklearn import datasets\n",
    "from sklearn.model_selection import train_test_split\n",
    "from sklearn.preprocessing import StandardScaler, OneHotEncoder\n",
    "\n",
    "import tensorflow as tf\n"
   ]
  },
  {
   "cell_type": "code",
   "execution_count": 2,
   "metadata": {},
   "outputs": [],
   "source": [
    "titanic=sns.load_dataset(\"titanic\")\n",
    "titanic.dropna(subset=[\"age\",\"embarked\"],inplace=True)\n",
    "titanic=pd.get_dummies(titanic,columns=[\"sex\",\"embarked\",\"class\",\"who\",\"deck\"])\n",
    "\n",
    "X=titanic.drop([\"survived\",\"alive\",\"embark_town\",\"adult_male\",\"alone\"],axis=1)\n",
    "y=titanic[\"survived\"]\n",
    "\n",
    "X_train,X_test, Y_train, Y_test=train_test_split(X,y,random_state=42,test_size=0.20)\n",
    "\n",
    "scaler=StandardScaler()\n",
    "\n",
    "X_train=scaler.fit_transform(X_train)\n",
    "X_test=scaler.transform(X_test)\n"
   ]
  },
  {
   "cell_type": "code",
   "execution_count": 3,
   "metadata": {},
   "outputs": [],
   "source": [
    "\n",
    "# Assuming X_train is your training data\n",
    "input_layer =tf.keras.layers.Dense(10, activation='relu', input_shape=(X_train.shape[1],))\n",
    "output_layer=tf.keras.layers.Dense(1,activation=\"sigmoid\")\n",
    "model=tf.keras.models.Sequential([input_layer,output_layer])\n",
    "\n",
    "# Compile the model\n",
    "model.compile(optimizer=\"adam\",loss=\"binary_crossentropy\",metrics=[\"accuracy\"])"
   ]
  },
  {
   "cell_type": "code",
   "execution_count": 4,
   "metadata": {},
   "outputs": [
    {
     "name": "stdout",
     "output_type": "stream",
     "text": [
      "Epoch 1/10\n",
      "18/18 [==============================] - 3s 6ms/step - loss: 0.8099 - accuracy: 0.4148\n",
      "Epoch 2/10\n",
      "18/18 [==============================] - 0s 6ms/step - loss: 0.7351 - accuracy: 0.5659\n",
      "Epoch 3/10\n",
      "18/18 [==============================] - 0s 5ms/step - loss: 0.6800 - accuracy: 0.6134\n",
      "Epoch 4/10\n",
      "18/18 [==============================] - 0s 6ms/step - loss: 0.6362 - accuracy: 0.6467\n",
      "Epoch 5/10\n",
      "18/18 [==============================] - 0s 7ms/step - loss: 0.6011 - accuracy: 0.7223\n",
      "Epoch 6/10\n",
      "18/18 [==============================] - 0s 10ms/step - loss: 0.5708 - accuracy: 0.7557\n",
      "Epoch 7/10\n",
      "18/18 [==============================] - 0s 7ms/step - loss: 0.5450 - accuracy: 0.7663\n",
      "Epoch 8/10\n",
      "18/18 [==============================] - 0s 4ms/step - loss: 0.5232 - accuracy: 0.7821\n",
      "Epoch 9/10\n",
      "18/18 [==============================] - 0s 5ms/step - loss: 0.5038 - accuracy: 0.7944\n",
      "Epoch 10/10\n",
      "18/18 [==============================] - 0s 6ms/step - loss: 0.4865 - accuracy: 0.8049\n",
      "18/18 [==============================] - 1s 4ms/step - loss: 0.4776 - accuracy: 0.8102\n",
      "5/5 [==============================] - 0s 7ms/step - loss: 0.5321 - accuracy: 0.7692\n",
      "Test accuracy of model :  0.7692307829856873\n",
      "Test accuracy of medel :  0.5320901870727539\n"
     ]
    }
   ],
   "source": [
    "model.fit(X_train,Y_train,epochs=10,batch_size=32,verbose=1)\n",
    "loss, accuracy=model.evaluate(X_train,Y_train,verbose=1)\n",
    "\n",
    "loss, accuracy=model.evaluate(X_test,Y_test,verbose=1)\n",
    "\n",
    "print(\"Test accuracy of model : \",accuracy)\n",
    "print(\"Test accuracy of medel : \",loss)\n",
    "\n"
   ]
  }
 ],
 "metadata": {
  "kernelspec": {
   "display_name": "tensorflow",
   "language": "python",
   "name": "python3"
  },
  "language_info": {
   "codemirror_mode": {
    "name": "ipython",
    "version": 3
   },
   "file_extension": ".py",
   "mimetype": "text/x-python",
   "name": "python",
   "nbconvert_exporter": "python",
   "pygments_lexer": "ipython3",
   "version": "0.0.0"
  }
 },
 "nbformat": 4,
 "nbformat_minor": 2
}
