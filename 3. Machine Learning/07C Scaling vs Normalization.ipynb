{
 "cells": [
  {
   "cell_type": "markdown",
   "metadata": {},
   "source": [
    "<div style=\"text-align: center; font-family: 'Times New Roman', Times, serif; background-color: #f5f5f5; padding: 20px; border-radius: 10px; box-shadow: 0 0 10px rgba(0, 0, 0, 0.1);\">\n",
    "\n",
    "  <h1 style=\"color: #333; text-decoration: underline;\">Python</h1>\n",
    "  <h1 style=\"color: #333; text-decoration: underline;\">Machine Learning</h1>\n",
    "  <div style=\"font-style: italic; margin-top: 10px; color: #555;\">Notebook Author: Shahzaib Yaqoob</div>\n",
    "  <div style=\"font-weight: bold; margin-top: 5px; color: #555;\">Gmail: shahzaibmalik4488@gmail.com</div>\n",
    "  <p style=\"margin-top: 20px; color: #777;\">Welcome to the world of Python and Machine Learning! Feel free to explore and innovate.</p>\n",
    "  \n",
    "  <!-- Navigation Links -->\n",
    "  <div style=\"margin-top: 20px;\">\n",
    "    <a href=\"#tutorials\" style=\"color: #555; margin-right: 20px;\">Tutorials</a>\n",
    "    <a href=\"#resources\" style=\"color: #555; margin-right: 20px;\">Resources</a>\n",
    "    <a href=\"#examples\" style=\"color: #555;\">Examples</a>\n",
    "  </div>\n",
    "\n",
    "  <!-- Code Snippet -->\n",
    "  <div style=\"margin-top: 20px;\">\n",
    "    <code style=\"background-color: #ddd; padding: 5px; color:#555\">print(\"Hello, Python and Machine Learning!\")</code>\n",
    "  </div>\n",
    "\n",
    "  <!-- Social Media Links -->\n",
    "  <div style=\"margin-top: 20px;\">\n",
    "    <a href=\"https://github.com/shahzaiby\" style=\"color: #555; margin-right: 20px;\">GitHub</a>\n",
    "    <a href=\"https://www.linkedin.com/in/shahzaibyaqoob/\" style=\"color: #555; margin-right: 20px;\">LinkedIn</a>\n",
    "    <a href=\"https://twitter.com/shahzaib\" style=\"color: #555;\">Twitter</a>\n",
    "  </div>\n",
    "\n",
    "  <!-- Additional Styling -->\n",
    "  <style>\n",
    "    /* Add your additional styling here */\n",
    "    a:hover {\n",
    "      text-decoration: underline;\n",
    "    }\n",
    "  </style>\n",
    "\n",
    "  <!-- Footer -->\n",
    "  <div style=\"margin-top: 20px; color: #555;\">\n",
    "    &copy; 2023 Shahzaib Yaqoob. All rights reserved.\n",
    "  </div>\n",
    "  \n",
    "</div>\n"
   ]
  },
  {
   "cell_type": "markdown",
   "metadata": {},
   "source": [
    "# Scaling Vs Normalization"
   ]
  },
  {
   "cell_type": "markdown",
   "metadata": {},
   "source": [
    "## Scaling\n",
    "\n",
    "Scaling adjusts the size of the numbers in your data without changing their patterns. It helps ensure all features are treated equally in analyses or models.Most imporatant method Min-Max Scaling (Normalization) and Standardization (Z-score Scaling). \n",
    "\n",
    "`Uses:` Scaling is applied when variables in a dataset are measured on different scales.such as income and education, are measured on different scales\n",
    "\n",
    "## Normalization\n",
    "\n",
    "Normalization adjusts the scale of the data but also changes the shape of its distributions. Common methods include log transformation, Square-root transformation, and Box-cox transformation.\n",
    "\n",
    "`Uses:`  It is used when the dataset has a skewed distribution, and algorithms assume normality of the features."
   ]
  }
 ],
 "metadata": {
  "language_info": {
   "name": "python"
  }
 },
 "nbformat": 4,
 "nbformat_minor": 2
}
