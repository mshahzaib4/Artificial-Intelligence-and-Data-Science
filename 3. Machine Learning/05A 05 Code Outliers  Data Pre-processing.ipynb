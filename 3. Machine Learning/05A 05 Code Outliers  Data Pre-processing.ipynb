{
 "cells": [
  {
   "cell_type": "markdown",
   "metadata": {},
   "source": [
    "<div style=\"text-align: center; font-family: 'Times New Roman', Times, serif; background-color: #f5f5f5; padding: 20px; border-radius: 10px; box-shadow: 0 0 10px rgba(0, 0, 0, 0.1);\">\n",
    "\n",
    "  <h1 style=\"color: #333; text-decoration: underline;\">Python</h1>\n",
    "  <h1 style=\"color: #333; text-decoration: underline;\">Machine Learning</h1>\n",
    "  <div style=\"font-style: italic; margin-top: 10px; color: #555;\">Notebook Author: Shahzaib Yaqoob</div>\n",
    "  <div style=\"font-weight: bold; margin-top: 5px; color: #555;\">Gmail: shahzaibmalik4488@gmail.com</div>\n",
    "  <p style=\"margin-top: 20px; color: #777;\">Welcome to the world of Python and Machine Learning! Feel free to explore and innovate.</p>\n",
    "  \n",
    "  <!-- Navigation Links -->\n",
    "  <div style=\"margin-top: 20px;\">\n",
    "    <a href=\"#tutorials\" style=\"color: #555; margin-right: 20px;\">Tutorials</a>\n",
    "    <a href=\"#resources\" style=\"color: #555; margin-right: 20px;\">Resources</a>\n",
    "    <a href=\"#examples\" style=\"color: #555;\">Examples</a>\n",
    "  </div>\n",
    "\n",
    "  <!-- Code Snippet -->\n",
    "  <div style=\"margin-top: 20px;\">\n",
    "    <code style=\"background-color: #ddd; padding: 5px; color:#555\">print(\"Hello, Python and Machine Learning!\")</code>\n",
    "  </div>\n",
    "\n",
    "  <!-- Social Media Links -->\n",
    "  <div style=\"margin-top: 20px;\">\n",
    "    <a href=\"https://github.com/shahzaiby\" style=\"color: #555; margin-right: 20px;\">GitHub</a>\n",
    "    <a href=\"https://www.linkedin.com/in/shahzaibyaqoob/\" style=\"color: #555; margin-right: 20px;\">LinkedIn</a>\n",
    "    <a href=\"https://twitter.com/shahzaib\" style=\"color: #555;\">Twitter</a>\n",
    "  </div>\n",
    "\n",
    "  <!-- Additional Styling -->\n",
    "  <style>\n",
    "    /* Add your additional styling here */\n",
    "    a:hover {\n",
    "      text-decoration: underline;\n",
    "    }\n",
    "  </style>\n",
    "\n",
    "  <!-- Footer -->\n",
    "  <div style=\"margin-top: 20px; color: #555;\">\n",
    "    &copy; 2023 Shahzaib Yaqoob. All rights reserved.\n",
    "  </div>\n",
    "  \n",
    "</div>\n"
   ]
  },
  {
   "cell_type": "markdown",
   "metadata": {},
   "source": [
    "<h1 align=\"Center\" style=\"font-family:'Times New Roman';\"> Code </br> Z-Score Method </h1>\n",
    " "
   ]
  },
  {
   "cell_type": "code",
   "execution_count": 59,
   "metadata": {},
   "outputs": [],
   "source": [
    "# Step 1: Import the required libraries\n",
    "import pandas as pd\n",
    "import numpy as np\n"
   ]
  },
  {
   "cell_type": "code",
   "execution_count": 60,
   "metadata": {},
   "outputs": [
    {
     "name": "stdout",
     "output_type": "stream",
     "text": [
      "-------- Here is the data with outliers --------\n",
      "     Age   Z-Score\n",
      "0   200 -0.443804\n",
      "1   201 -0.431837\n",
      "2   202 -0.419869\n",
      "3   203 -0.407901\n",
      "4   204 -0.395933\n",
      "5   205 -0.383966\n",
      "6   206 -0.371998\n",
      "7   207 -0.360030\n",
      "8   208 -0.348062\n",
      "9   209 -0.336095\n",
      "10  300  0.752972\n",
      "11  500  3.146524\n",
      "-------- Here is the data without outliers --------\n",
      "     Age   Z-Score\n",
      "0   200 -0.443804\n",
      "1   201 -0.431837\n",
      "2   202 -0.419869\n",
      "3   203 -0.407901\n",
      "4   204 -0.395933\n",
      "5   205 -0.383966\n",
      "6   206 -0.371998\n",
      "7   207 -0.360030\n",
      "8   208 -0.348062\n",
      "9   209 -0.336095\n",
      "10  300  0.752972\n"
     ]
    }
   ],
   "source": [
    "\n",
    "# Step 2: Create the data\n",
    "data = pd.DataFrame({'Age': [200, 201, 202, 203, 204, 205, 206, 207, 208, 209, 300, 500]})\n",
    "\n",
    "mean=data['Age'].mean()\n",
    "std=np.std(data['Age'])\n",
    "data['Z-Score'] = (data['Age'] - mean) / std\n",
    "\n",
    "print(\"-------- Here is the data with outliers --------\\n\",data)\n",
    "data = data[(data['Z-Score'] <= 3)] # Decalre outliers betwen (3/2.5) -- (-3/-2.5)\n",
    "print(\"-------- Here is the data without outliers --------\\n\",data)\n",
    "\n"
   ]
  },
  {
   "cell_type": "code",
   "execution_count": 61,
   "metadata": {},
   "outputs": [
    {
     "data": {
      "text/html": [
       "<div>\n",
       "<style scoped>\n",
       "    .dataframe tbody tr th:only-of-type {\n",
       "        vertical-align: middle;\n",
       "    }\n",
       "\n",
       "    .dataframe tbody tr th {\n",
       "        vertical-align: top;\n",
       "    }\n",
       "\n",
       "    .dataframe thead th {\n",
       "        text-align: right;\n",
       "    }\n",
       "</style>\n",
       "<table border=\"1\" class=\"dataframe\">\n",
       "  <thead>\n",
       "    <tr style=\"text-align: right;\">\n",
       "      <th></th>\n",
       "      <th>Age</th>\n",
       "      <th>Z-Score</th>\n",
       "    </tr>\n",
       "  </thead>\n",
       "  <tbody>\n",
       "    <tr>\n",
       "      <th>0</th>\n",
       "      <td>200</td>\n",
       "      <td>-0.443804</td>\n",
       "    </tr>\n",
       "    <tr>\n",
       "      <th>1</th>\n",
       "      <td>201</td>\n",
       "      <td>-0.431837</td>\n",
       "    </tr>\n",
       "    <tr>\n",
       "      <th>2</th>\n",
       "      <td>202</td>\n",
       "      <td>-0.419869</td>\n",
       "    </tr>\n",
       "    <tr>\n",
       "      <th>3</th>\n",
       "      <td>203</td>\n",
       "      <td>-0.407901</td>\n",
       "    </tr>\n",
       "    <tr>\n",
       "      <th>4</th>\n",
       "      <td>204</td>\n",
       "      <td>-0.395933</td>\n",
       "    </tr>\n",
       "  </tbody>\n",
       "</table>\n",
       "</div>"
      ],
      "text/plain": [
       "   Age   Z-Score\n",
       "0  200 -0.443804\n",
       "1  201 -0.431837\n",
       "2  202 -0.419869\n",
       "3  203 -0.407901\n",
       "4  204 -0.395933"
      ]
     },
     "execution_count": 61,
     "metadata": {},
     "output_type": "execute_result"
    }
   ],
   "source": [
    "data.head()"
   ]
  },
  {
   "cell_type": "markdown",
   "metadata": {},
   "source": [
    "# `Using scipy library`"
   ]
  },
  {
   "cell_type": "code",
   "execution_count": 62,
   "metadata": {},
   "outputs": [
    {
     "name": "stdout",
     "output_type": "stream",
     "text": [
      "Original data:\n",
      "     Age\n",
      "0   200\n",
      "1   201\n",
      "2   202\n",
      "3   203\n",
      "4   204\n",
      "5   205\n",
      "6   206\n",
      "7   207\n",
      "8   208\n",
      "9   209\n",
      "10  300\n",
      "11  500\n",
      "\n",
      "Data without outliers:\n",
      "     Age\n",
      "0   200\n",
      "1   201\n",
      "2   202\n",
      "3   203\n",
      "4   204\n",
      "5   205\n",
      "6   206\n",
      "7   207\n",
      "8   208\n",
      "9   209\n",
      "10  300\n"
     ]
    }
   ],
   "source": [
    "from scipy import stats\n",
    "\n",
    "# Sample data\n",
    "data2 = pd.DataFrame({'Age': [200, 201, 202, 203, 204, 205, 206, 207, 208, 209, 300, 500]})\n",
    "\n",
    "# Calculate the Z-score for each data point\n",
    "z_scores = np.abs(stats.zscore(data2['Age']))\n",
    "\n",
    "# Set a threshold for identifying outliers\n",
    "outliers = np.where(z_scores > 2.5)[0]\n",
    "print(\"Original data:\\n\", data2)\n",
    "\n",
    "# Remove outliers from the DataFrame\n",
    "data2_no_outliers = data2.loc[~data2.index.isin(outliers)]\n",
    "\n",
    "print(\"\\nData without outliers:\\n\", data2_no_outliers)\n"
   ]
  },
  {
   "cell_type": "markdown",
   "metadata": {},
   "source": [
    "#  IQR Method\n",
    "# `IQR=Q3-Q1`"
   ]
  },
  {
   "cell_type": "code",
   "execution_count": 70,
   "metadata": {},
   "outputs": [
    {
     "name": "stdout",
     "output_type": "stream",
     "text": [
      "Data with outliers:\n",
      "     Age\n",
      "0   200\n",
      "1   201\n",
      "2   202\n",
      "3   203\n",
      "4   204\n",
      "5   205\n",
      "6   206\n",
      "7   207\n",
      "8   208\n",
      "9   209\n",
      "10  300\n",
      "11  500\n",
      "Data without outliers:\n",
      "    Age\n",
      "0  200\n",
      "1  201\n",
      "2  202\n",
      "3  203\n",
      "4  204\n",
      "5  205\n",
      "6  206\n",
      "7  207\n",
      "8  208\n",
      "9  209\n"
     ]
    }
   ],
   "source": [
    "data = pd.DataFrame({'Age': [200, 201, 202, 203, 204, 205, 206, 207, 208, 209, 300, 500]})\n",
    "\n",
    "# Step 3: Calculate the first and third quartile\n",
    "Q1 = np.percentile(data['Age'], 25)\n",
    "Q3 = np.percentile(data['Age'], 75)\n",
    "IQR=Q3-Q1\n",
    "Lower_bound=Q1-(1.5*IQR)\n",
    "Uper_bound=Q3+(1.5*IQR)\n",
    "print(\"Data with outliers:\\n\",data)\n",
    "data = data[(data['Age'] >= Lower_bound) & (data['Age'] <= Uper_bound)]\n",
    "print(\"Data without outliers:\\n\",data)"
   ]
  },
  {
   "cell_type": "markdown",
   "metadata": {},
   "source": [
    "# `Clustering Method (K-Means)`"
   ]
  },
  {
   "cell_type": "code",
   "execution_count": 71,
   "metadata": {},
   "outputs": [
    {
     "name": "stdout",
     "output_type": "stream",
     "text": [
      "Data: [[2, 2], [3, 3], [3, 4], [30, 30], [31, 31], [32, 32]]\n",
      "Outliers: [[30, 30], [31, 31], [32, 32]]\n",
      "Data without outliers: [[2, 2], [3, 3], [3, 4]]\n"
     ]
    }
   ],
   "source": [
    "# Import ML library\n",
    "from sklearn.cluster import KMeans\n",
    "\n",
    "# Sample data\n",
    "data = [[2, 2], [3, 3], [3, 4], [30, 30], [31, 31], [32, 32]]\n",
    "\n",
    "# Create a K-means model with two clusters (normal and outlier)\n",
    "kmeans = KMeans(n_clusters=2, n_init=10)\n",
    "kmeans.fit(data)\n",
    "\n",
    "# Predict cluster labels\n",
    "labels = kmeans.predict(data)\n",
    "\n",
    "# Identify outliers based on cluster labels\n",
    "outliers = [data[i] for i, label in enumerate(labels) if label == 1]\n",
    "\n",
    "# print data\n",
    "print(\"Data:\", data)\n",
    "print(\"Outliers:\", outliers)\n",
    "# Remove outliers\n",
    "data = [data[i] for i, label in enumerate(labels) if label == 0]\n",
    "print(\"Data without outliers:\", data)"
   ]
  }
 ],
 "metadata": {
  "kernelspec": {
   "display_name": "Python_ML",
   "language": "python",
   "name": "python3"
  },
  "language_info": {
   "codemirror_mode": {
    "name": "ipython",
    "version": 3
   },
   "file_extension": ".py",
   "mimetype": "text/x-python",
   "name": "python",
   "nbconvert_exporter": "python",
   "pygments_lexer": "ipython3",
   "version": "3.12.0"
  }
 },
 "nbformat": 4,
 "nbformat_minor": 2
}
