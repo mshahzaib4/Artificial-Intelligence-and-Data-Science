{
 "cells": [
  {
   "cell_type": "markdown",
   "metadata": {},
   "source": [
    "<div style=\"text-align: center; font-family: 'Times New Roman', Times, serif; background-color: #f5f5f5; padding: 20px; border-radius: 10px; box-shadow: 0 0 10px rgba(0, 0, 0, 0.1);\">\n",
    "\n",
    "  <h1 style=\"color: #333; text-decoration: underline;\">Python</h1>\n",
    "  <h1 style=\"color: #333; text-decoration: underline;\">Machine Learning</h1>\n",
    "  <div style=\"font-style: italic; margin-top: 10px; color: #555;\">Notebook Author: Shahzaib Yaqoob</div>\n",
    "  <div style=\"font-weight: bold; margin-top: 5px; color: #555;\">Gmail: shahzaibmalik4488@gmail.com</div>\n",
    "  <p style=\"margin-top: 20px; color: #777;\">Welcome to the world of Python and Machine Learning! Feel free to explore and innovate.</p>\n",
    "  \n",
    "  <!-- Navigation Links -->\n",
    "  <div style=\"margin-top: 20px;\">\n",
    "    <a href=\"#tutorials\" style=\"color: #555; margin-right: 20px;\">Tutorials</a>\n",
    "    <a href=\"#resources\" style=\"color: #555; margin-right: 20px;\">Resources</a>\n",
    "    <a href=\"#examples\" style=\"color: #555;\">Examples</a>\n",
    "  </div>\n",
    "\n",
    "  <!-- Code Snippet -->\n",
    "  <div style=\"margin-top: 20px;\">\n",
    "    <code style=\"background-color: #ddd; padding: 5px; color:#555\">print(\"Hello, Python and Machine Learning!\")</code>\n",
    "  </div>\n",
    "\n",
    "  <!-- Social Media Links -->\n",
    "  <div style=\"margin-top: 20px;\">\n",
    "    <a href=\"https://github.com/shahzaiby\" style=\"color: #555; margin-right: 20px;\">GitHub</a>\n",
    "    <a href=\"https://www.linkedin.com/in/shahzaibyaqoob/\" style=\"color: #555; margin-right: 20px;\">LinkedIn</a>\n",
    "    <a href=\"https://twitter.com/shahzaib\" style=\"color: #555;\">Twitter</a>\n",
    "  </div>\n",
    "\n",
    "  <!-- Additional Styling -->\n",
    "  <style>\n",
    "    /* Add your additional styling here */\n",
    "    a:hover {\n",
    "      text-decoration: underline;\n",
    "    }\n",
    "  </style>\n",
    "\n",
    "  <!-- Footer -->\n",
    "  <div style=\"margin-top: 20px; color: #555;\">\n",
    "    &copy; 2023 Shahzaib Yaqoob. All rights reserved.\n",
    "  </div>\n",
    "  \n",
    "</div>\n"
   ]
  },
  {
   "cell_type": "markdown",
   "metadata": {},
   "source": [
    "### `K-Nearest Neighbors (KNN)`"
   ]
  },
  {
   "cell_type": "code",
   "execution_count": 36,
   "metadata": {},
   "outputs": [],
   "source": [
    "from sklearn.impute import KNNImputer"
   ]
  },
  {
   "cell_type": "markdown",
   "metadata": {},
   "source": [
    "`K-Nearest Neighbors (KNN)` imputation is a method utilized for replacing missing values in a dataset by making predictions based on the values of their closest neighbors."
   ]
  },
  {
   "cell_type": "code",
   "execution_count": 37,
   "metadata": {},
   "outputs": [
    {
     "name": "stdout",
     "output_type": "stream",
     "text": [
      "----------------------------------------\n",
      "Here is the data with missing value:\n",
      "      Age\n",
      "0   20.0\n",
      "1   21.0\n",
      "2   22.0\n",
      "3   23.0\n",
      "4   24.0\n",
      "5   25.0\n",
      "6   26.0\n",
      "7   27.0\n",
      "8   28.0\n",
      "9   29.0\n",
      "10   NaN\n",
      "11  50.0\n",
      "----------------------------------------\n",
      "Here is the data without missing value:\n",
      "           Age\n",
      "0   20.000000\n",
      "1   21.000000\n",
      "2   22.000000\n",
      "3   23.000000\n",
      "4   24.000000\n",
      "5   25.000000\n",
      "6   26.000000\n",
      "7   27.000000\n",
      "8   28.000000\n",
      "9   29.000000\n",
      "10  26.818182\n",
      "11  50.000000\n"
     ]
    }
   ],
   "source": [
    "# Create the data\n",
    "data = pd.DataFrame({'Age': [20, 21, 22, 23, 24, 25, 26, 27, 28, 29, np.nan, 50]})\n",
    "# Print the data with missing value\n",
    "print(\"----------------------------------------\")\n",
    "print(f\"Here is the data with missing value:\\n {data}\")\n",
    "\n",
    "# Initialize the KNNImputer\n",
    "imputer = KNNImputer(n_neighbors=2)\n",
    "\n",
    "# Replace the missing values with KNN imputation\n",
    "data['Age'] = imputer.fit_transform(data[['Age']])\n",
    "print(\"----------------------------------------\")\n",
    "# Print the data without missing value\n",
    "print(f\"Here is the data without missing value:\\n {data}\")"
   ]
  },
  {
   "cell_type": "markdown",
   "metadata": {},
   "source": [
    " **`SimpleImputer:`** The SimpleImputer is a class in scikit-learn that can be used to fill in missing values in a dataset. It can work with numerical and categorical data and offers options to replace missing values with a constant value or a statistical measure like mean, median, or mode."
   ]
  },
  {
   "cell_type": "code",
   "execution_count": 38,
   "metadata": {},
   "outputs": [],
   "source": [
    "from sklearn.impute import SimpleImputer"
   ]
  },
  {
   "cell_type": "code",
   "execution_count": 39,
   "metadata": {},
   "outputs": [
    {
     "data": {
      "text/plain": [
       "deck           688\n",
       "age            177\n",
       "embarked         2\n",
       "embark_town      2\n",
       "survived         0\n",
       "pclass           0\n",
       "sex              0\n",
       "sibsp            0\n",
       "parch            0\n",
       "fare             0\n",
       "class            0\n",
       "who              0\n",
       "adult_male       0\n",
       "alive            0\n",
       "alone            0\n",
       "dtype: int64"
      ]
     },
     "execution_count": 39,
     "metadata": {},
     "output_type": "execute_result"
    }
   ],
   "source": [
    "Titanic_data=sns.load_dataset(\"titanic\")\n",
    "Titanic_data.isnull().sum().sort_values(ascending=False)"
   ]
  },
  {
   "cell_type": "markdown",
   "metadata": {},
   "source": [
    "- Impute age columns using **`SimpleImputer`**"
   ]
  },
  {
   "cell_type": "code",
   "execution_count": 40,
   "metadata": {},
   "outputs": [],
   "source": [
    "Imputer=SimpleImputer(strategy=\"mean\")\n",
    "Titanic_data[\"age\"]=Imputer.fit_transform(Titanic_data[[\"age\"]])"
   ]
  },
  {
   "cell_type": "code",
   "execution_count": 41,
   "metadata": {},
   "outputs": [
    {
     "data": {
      "text/plain": [
       "deck           688\n",
       "embarked         2\n",
       "embark_town      2\n",
       "survived         0\n",
       "pclass           0\n",
       "sex              0\n",
       "age              0\n",
       "sibsp            0\n",
       "parch            0\n",
       "fare             0\n",
       "class            0\n",
       "who              0\n",
       "adult_male       0\n",
       "alive            0\n",
       "alone            0\n",
       "dtype: int64"
      ]
     },
     "execution_count": 41,
     "metadata": {},
     "output_type": "execute_result"
    }
   ],
   "source": [
    "# Output\n",
    "Titanic_data.isnull().sum().sort_values(ascending=False)"
   ]
  },
  {
   "cell_type": "markdown",
   "metadata": {},
   "source": [
    " **`Multivariate Imputation:`** Multivariate imputation is a statistical technique that deals with missing data in a dataset by filling in the missing values based on the relationships between variables."
   ]
  },
  {
   "cell_type": "markdown",
   "metadata": {},
   "source": [
    " - Impute \"age\" columns using **`Multivariate Imputation`**"
   ]
  },
  {
   "cell_type": "code",
   "execution_count": 42,
   "metadata": {},
   "outputs": [],
   "source": [
    "from sklearn.experimental import enable_iterative_imputer\n",
    "from sklearn.impute import IterativeImputer\n",
    "\n",
    "Titanic=sns.load_dataset(\"titanic\")"
   ]
  },
  {
   "cell_type": "code",
   "execution_count": 43,
   "metadata": {},
   "outputs": [
    {
     "data": {
      "text/plain": [
       "deck           688\n",
       "embarked         2\n",
       "embark_town      2\n",
       "survived         0\n",
       "pclass           0\n",
       "sex              0\n",
       "age              0\n",
       "sibsp            0\n",
       "parch            0\n",
       "fare             0\n",
       "class            0\n",
       "who              0\n",
       "adult_male       0\n",
       "alive            0\n",
       "alone            0\n",
       "dtype: int64"
      ]
     },
     "execution_count": 43,
     "metadata": {},
     "output_type": "execute_result"
    }
   ],
   "source": [
    "Imputer=IterativeImputer()\n",
    "Titanic[\"age\"]=Imputer.fit_transform(Titanic[[\"age\"]])\n",
    "Titanic.isnull().sum().sort_values(ascending=False)"
   ]
  },
  {
   "cell_type": "markdown",
   "metadata": {},
   "source": [
    " `FFill` and `Backward fill:` The main difference between ffill and bfill is the direction in which they fill missing values with non-null values in pandas."
   ]
  },
  {
   "cell_type": "code",
   "execution_count": 54,
   "metadata": {},
   "outputs": [
    {
     "data": {
      "text/plain": [
       "deck           688\n",
       "survived         0\n",
       "pclass           0\n",
       "sex              0\n",
       "age              0\n",
       "sibsp            0\n",
       "parch            0\n",
       "fare             0\n",
       "embarked         0\n",
       "class            0\n",
       "who              0\n",
       "adult_male       0\n",
       "embark_town      0\n",
       "alive            0\n",
       "alone            0\n",
       "dtype: int64"
      ]
     },
     "execution_count": 54,
     "metadata": {},
     "output_type": "execute_result"
    }
   ],
   "source": [
    "\n",
    "# Replace missing values in \"embarked\" column using forward fill (ffill)\n",
    "Titanic[\"embarked\"].ffill(inplace=True)\n",
    "\n",
    "# Replace missing values in \"embark_town\" column using backward fill (bfill)\n",
    "Titanic[\"embark_town\"].bfill(inplace=True)\n",
    "\n",
    "# Display the count of missing values for each column\n",
    "Titanic.isnull().sum().sort_values(ascending=False)\n",
    "\n"
   ]
  }
 ],
 "metadata": {
  "kernelspec": {
   "display_name": "Python_ML",
   "language": "python",
   "name": "python3"
  },
  "language_info": {
   "codemirror_mode": {
    "name": "ipython",
    "version": 3
   },
   "file_extension": ".py",
   "mimetype": "text/x-python",
   "name": "python",
   "nbconvert_exporter": "python",
   "pygments_lexer": "ipython3",
   "version": "3.12.0"
  }
 },
 "nbformat": 4,
 "nbformat_minor": 2
}
