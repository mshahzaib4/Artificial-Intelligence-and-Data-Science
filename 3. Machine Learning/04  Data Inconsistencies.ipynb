{
 "cells": [
  {
   "cell_type": "markdown",
   "metadata": {},
   "source": [
    "<div style=\"text-align: center; font-family: 'Times New Roman', Times, serif; background-color: #f5f5f5; padding: 20px; border-radius: 10px; box-shadow: 0 0 10px rgba(0, 0, 0, 0.1);\">\n",
    "\n",
    "  <h1 style=\"color: #333; text-decoration: underline;\">Python</h1>\n",
    "  <h1 style=\"color: #333; text-decoration: underline;\">Machine Learning</h1>\n",
    "  <div style=\"font-style: italic; margin-top: 10px; color: #555;\">Notebook Author: Shahzaib Yaqoob</div>\n",
    "  <div style=\"font-weight: bold; margin-top: 5px; color: #555;\">Gmail: shahzaibmalik4488@gmail.com</div>\n",
    "  <p style=\"margin-top: 20px; color: #777;\">Welcome to the world of Python and Machine Learning! Feel free to explore and innovate.</p>\n",
    "  \n",
    "  <!-- Navigation Links -->\n",
    "  <div style=\"margin-top: 20px;\">\n",
    "    <a href=\"#tutorials\" style=\"color: #555; margin-right: 20px;\">Tutorials</a>\n",
    "    <a href=\"#resources\" style=\"color: #555; margin-right: 20px;\">Resources</a>\n",
    "    <a href=\"#examples\" style=\"color: #555;\">Examples</a>\n",
    "  </div>\n",
    "\n",
    "  <!-- Code Snippet -->\n",
    "  <div style=\"margin-top: 20px;\">\n",
    "    <code style=\"background-color: #ddd; padding: 5px; color:#555\">print(\"Hello, Python and Machine Learning!\")</code>\n",
    "  </div>\n",
    "\n",
    "  <!-- Social Media Links -->\n",
    "  <div style=\"margin-top: 20px;\">\n",
    "    <a href=\"https://github.com/shahzaiby\" style=\"color: #555; margin-right: 20px;\">GitHub</a>\n",
    "    <a href=\"https://www.linkedin.com/in/shahzaibyaqoob/\" style=\"color: #555; margin-right: 20px;\">LinkedIn</a>\n",
    "    <a href=\"https://twitter.com/shahzaib\" style=\"color: #555;\">Twitter</a>\n",
    "  </div>\n",
    "\n",
    "  <!-- Additional Styling -->\n",
    "  <style>\n",
    "    /* Add your additional styling here */\n",
    "    a:hover {\n",
    "      text-decoration: underline;\n",
    "    }\n",
    "  </style>\n",
    "\n",
    "  <!-- Footer -->\n",
    "  <div style=\"margin-top: 20px; color: #555;\">\n",
    "    &copy; 2023 Shahzaib Yaqoob. All rights reserved.\n",
    "  </div>\n",
    "  \n",
    "</div>\n"
   ]
  },
  {
   "cell_type": "markdown",
   "metadata": {},
   "source": [
    "<h1 align=\"center\" style=\"font-family: 'Times New Roman';\">Data Inconsistencies</h1>\n"
   ]
  },
  {
   "cell_type": "markdown",
   "metadata": {},
   "source": [
    "# 1. Inconsistent Formats:\n",
    "\n",
    "## **Issue:**\n",
    "Imagine writing dates differently, like \"12th January\" and \"January 12th.\"\n",
    "\n",
    "## **Example Solution:**\n",
    "Pick one style, say \"January 12, 2023,\" and stick to it across all your writing.\n",
    "\n",
    "---\n",
    "\n",
    "# 2. Naming Convention Issues:\n",
    "\n",
    "## **Issue:**\n",
    "You refer to the United States as \"USA\" in one document or database, and as \"United States of America\" in another.\n",
    "\n",
    "## **Example Solution:**\n",
    "Decide on one name and use it consistently, so everyone knows who you're talking about.\n",
    "\n",
    "---\n",
    "\n",
    "# 3. Typographical Errors:\n",
    "\n",
    "## **Issue:**\n",
    "Imagine texting \"Pakistan\" but accidentally typing \"Paakistan.\"\n",
    "\n",
    "## **Example Solution:**\n",
    "Use tools that catch mistakes or double-check your writing to fix any errors.\n",
    "\n",
    "---\n",
    "\n",
    "# 4. Duplication of Data:\n",
    "\n",
    "## **Issue:**\n",
    "Having the same contact twice in your phone with different details.\n",
    "\n",
    "## **Example Solution:**\n",
    "Give each contact a unique name or ID, and regularly check for and merge duplicates.\n",
    "\n",
    "---\n",
    "\n",
    "# 5. Contradictory Data:\n",
    "\n",
    "## **Issue:**\n",
    "If your friend says they live downtown, but their address online says uptown.\n",
    "\n",
    "## **Example Solution:**\n",
    "Have one reliable source for information, like asking your friend directly, to avoid conflicting details.\n"
   ]
  },
  {
   "cell_type": "markdown",
   "metadata": {},
   "source": [
    "---\n",
    "---"
   ]
  },
  {
   "cell_type": "markdown",
   "metadata": {},
   "source": [
    "<h1 align=\"Center\" style=\"font-family:'Times New Roman';\"> Code</h1>"
   ]
  },
  {
   "cell_type": "markdown",
   "metadata": {},
   "source": [
    "# Import Libraries\n"
   ]
  },
  {
   "cell_type": "code",
   "execution_count": 168,
   "metadata": {},
   "outputs": [],
   "source": [
    "import pandas as pd"
   ]
  },
  {
   "cell_type": "markdown",
   "metadata": {},
   "source": [
    "# How to format dates in Python"
   ]
  },
  {
   "cell_type": "code",
   "execution_count": 169,
   "metadata": {},
   "outputs": [
    {
     "data": {
      "text/html": [
       "<div>\n",
       "<style scoped>\n",
       "    .dataframe tbody tr th:only-of-type {\n",
       "        vertical-align: middle;\n",
       "    }\n",
       "\n",
       "    .dataframe tbody tr th {\n",
       "        vertical-align: top;\n",
       "    }\n",
       "\n",
       "    .dataframe thead th {\n",
       "        text-align: right;\n",
       "    }\n",
       "</style>\n",
       "<table border=\"1\" class=\"dataframe\">\n",
       "  <thead>\n",
       "    <tr style=\"text-align: right;\">\n",
       "      <th></th>\n",
       "      <th>date</th>\n",
       "      <th>country</th>\n",
       "      <th>name</th>\n",
       "      <th>sales_2020</th>\n",
       "      <th>sales_2021</th>\n",
       "    </tr>\n",
       "  </thead>\n",
       "  <tbody>\n",
       "    <tr>\n",
       "      <th>0</th>\n",
       "      <td>2022-12-01</td>\n",
       "      <td>USA</td>\n",
       "      <td>Shahzaib</td>\n",
       "      <td>200.0</td>\n",
       "      <td>NaN</td>\n",
       "    </tr>\n",
       "    <tr>\n",
       "      <th>1</th>\n",
       "      <td>01-12-2023</td>\n",
       "      <td>U.S.A.</td>\n",
       "      <td>shaahzaib</td>\n",
       "      <td>300.0</td>\n",
       "      <td>250.0</td>\n",
       "    </tr>\n",
       "    <tr>\n",
       "      <th>2</th>\n",
       "      <td>2024/12/01</td>\n",
       "      <td>America</td>\n",
       "      <td>yaqob</td>\n",
       "      <td>NaN</td>\n",
       "      <td>400.0</td>\n",
       "    </tr>\n",
       "    <tr>\n",
       "      <th>3</th>\n",
       "      <td>12-01-2019</td>\n",
       "      <td>United States</td>\n",
       "      <td>Yaqoob</td>\n",
       "      <td>400.0</td>\n",
       "      <td>250.0</td>\n",
       "    </tr>\n",
       "  </tbody>\n",
       "</table>\n",
       "</div>"
      ],
      "text/plain": [
       "         date        country       name  sales_2020  sales_2021\n",
       "0  2022-12-01            USA   Shahzaib       200.0         NaN\n",
       "1  01-12-2023         U.S.A.  shaahzaib       300.0       250.0\n",
       "2  2024/12/01        America      yaqob         NaN       400.0\n",
       "3  12-01-2019  United States     Yaqoob       400.0       250.0"
      ]
     },
     "execution_count": 169,
     "metadata": {},
     "output_type": "execute_result"
    }
   ],
   "source": [
    "data = {\n",
    "    'date': ['2022-12-01', '01-12-2023', '2024/12/01', '12-01-2019'],\n",
    "    'country': ['USA', 'U.S.A.', 'America', 'United States'],\n",
    "    'name': ['Shahzaib', 'shaahzaib', 'yaqob', 'Yaqoob'],\n",
    "    'sales_2020': [200, 300, None, 400],\n",
    "    'sales_2021': [None, 250, 400, 250]\n",
    "}\n",
    "\n",
    "# Make a Pandas DataFrame\n",
    "df_data = pd.DataFrame(data)\n",
    "df_data.head(5)\n"
   ]
  },
  {
   "cell_type": "markdown",
   "metadata": {},
   "source": [
    "This parameter handles conversion errors. When set to 'coerce', it replaces parsing errors with NaT values and \n",
    "it also convert all the dates into standard format"
   ]
  },
  {
   "cell_type": "markdown",
   "metadata": {},
   "source": [
    "## **Inconsistent Formats**"
   ]
  },
  {
   "cell_type": "code",
   "execution_count": 170,
   "metadata": {},
   "outputs": [
    {
     "data": {
      "text/plain": [
       "0   2022-12-01\n",
       "1          NaT\n",
       "2          NaT\n",
       "3          NaT\n",
       "Name: date, dtype: datetime64[ns]"
      ]
     },
     "execution_count": 170,
     "metadata": {},
     "output_type": "execute_result"
    }
   ],
   "source": [
    "df_data['date']=pd.to_datetime(df_data['date'],errors='coerce')\n",
    "df_data['date']"
   ]
  },
  {
   "cell_type": "markdown",
   "metadata": {},
   "source": [
    " It replace 'NAT' with Nan \n"
   ]
  },
  {
   "cell_type": "code",
   "execution_count": 171,
   "metadata": {},
   "outputs": [],
   "source": [
    "df_data['date']=df_data['date'].dt.strftime( '%Y-%m-%d')\n"
   ]
  },
  {
   "cell_type": "code",
   "execution_count": 172,
   "metadata": {},
   "outputs": [
    {
     "data": {
      "text/plain": [
       "0        2022-12-01\n",
       "1    Year-Month-day\n",
       "2    Year-Month-day\n",
       "3    Year-Month-day\n",
       "Name: date, dtype: object"
      ]
     },
     "execution_count": 172,
     "metadata": {},
     "output_type": "execute_result"
    }
   ],
   "source": [
    "df_data['date']=df_data['date'].fillna(\"Year-Month-day\")\n",
    "df_data['date']"
   ]
  },
  {
   "cell_type": "code",
   "execution_count": 173,
   "metadata": {},
   "outputs": [
    {
     "data": {
      "text/html": [
       "<div>\n",
       "<style scoped>\n",
       "    .dataframe tbody tr th:only-of-type {\n",
       "        vertical-align: middle;\n",
       "    }\n",
       "\n",
       "    .dataframe tbody tr th {\n",
       "        vertical-align: top;\n",
       "    }\n",
       "\n",
       "    .dataframe thead th {\n",
       "        text-align: right;\n",
       "    }\n",
       "</style>\n",
       "<table border=\"1\" class=\"dataframe\">\n",
       "  <thead>\n",
       "    <tr style=\"text-align: right;\">\n",
       "      <th></th>\n",
       "      <th>date</th>\n",
       "      <th>country</th>\n",
       "      <th>name</th>\n",
       "      <th>sales_2020</th>\n",
       "      <th>sales_2021</th>\n",
       "    </tr>\n",
       "  </thead>\n",
       "  <tbody>\n",
       "    <tr>\n",
       "      <th>0</th>\n",
       "      <td>2022-12-01</td>\n",
       "      <td>USA</td>\n",
       "      <td>Shahzaib</td>\n",
       "      <td>200.0</td>\n",
       "      <td>NaN</td>\n",
       "    </tr>\n",
       "    <tr>\n",
       "      <th>1</th>\n",
       "      <td>Year-Month-day</td>\n",
       "      <td>U.S.A.</td>\n",
       "      <td>shaahzaib</td>\n",
       "      <td>300.0</td>\n",
       "      <td>250.0</td>\n",
       "    </tr>\n",
       "    <tr>\n",
       "      <th>2</th>\n",
       "      <td>Year-Month-day</td>\n",
       "      <td>America</td>\n",
       "      <td>yaqob</td>\n",
       "      <td>NaN</td>\n",
       "      <td>400.0</td>\n",
       "    </tr>\n",
       "    <tr>\n",
       "      <th>3</th>\n",
       "      <td>Year-Month-day</td>\n",
       "      <td>United States</td>\n",
       "      <td>Yaqoob</td>\n",
       "      <td>400.0</td>\n",
       "      <td>250.0</td>\n",
       "    </tr>\n",
       "  </tbody>\n",
       "</table>\n",
       "</div>"
      ],
      "text/plain": [
       "             date        country       name  sales_2020  sales_2021\n",
       "0      2022-12-01            USA   Shahzaib       200.0         NaN\n",
       "1  Year-Month-day         U.S.A.  shaahzaib       300.0       250.0\n",
       "2  Year-Month-day        America      yaqob         NaN       400.0\n",
       "3  Year-Month-day  United States     Yaqoob       400.0       250.0"
      ]
     },
     "execution_count": 173,
     "metadata": {},
     "output_type": "execute_result"
    }
   ],
   "source": [
    "df_data"
   ]
  },
  {
   "cell_type": "markdown",
   "metadata": {},
   "source": [
    "## **Naming Convention Issues**"
   ]
  },
  {
   "cell_type": "code",
   "execution_count": 174,
   "metadata": {},
   "outputs": [
    {
     "data": {
      "text/html": [
       "<div>\n",
       "<style scoped>\n",
       "    .dataframe tbody tr th:only-of-type {\n",
       "        vertical-align: middle;\n",
       "    }\n",
       "\n",
       "    .dataframe tbody tr th {\n",
       "        vertical-align: top;\n",
       "    }\n",
       "\n",
       "    .dataframe thead th {\n",
       "        text-align: right;\n",
       "    }\n",
       "</style>\n",
       "<table border=\"1\" class=\"dataframe\">\n",
       "  <thead>\n",
       "    <tr style=\"text-align: right;\">\n",
       "      <th></th>\n",
       "      <th>date</th>\n",
       "      <th>country</th>\n",
       "      <th>name</th>\n",
       "      <th>sales_2020</th>\n",
       "      <th>sales_2021</th>\n",
       "    </tr>\n",
       "  </thead>\n",
       "  <tbody>\n",
       "    <tr>\n",
       "      <th>0</th>\n",
       "      <td>2022-12-01</td>\n",
       "      <td>United States</td>\n",
       "      <td>Shahzaib</td>\n",
       "      <td>200.0</td>\n",
       "      <td>NaN</td>\n",
       "    </tr>\n",
       "    <tr>\n",
       "      <th>1</th>\n",
       "      <td>Year-Month-day</td>\n",
       "      <td>United States</td>\n",
       "      <td>shaahzaib</td>\n",
       "      <td>300.0</td>\n",
       "      <td>250.0</td>\n",
       "    </tr>\n",
       "    <tr>\n",
       "      <th>2</th>\n",
       "      <td>Year-Month-day</td>\n",
       "      <td>United States</td>\n",
       "      <td>yaqob</td>\n",
       "      <td>NaN</td>\n",
       "      <td>400.0</td>\n",
       "    </tr>\n",
       "    <tr>\n",
       "      <th>3</th>\n",
       "      <td>Year-Month-day</td>\n",
       "      <td>United States</td>\n",
       "      <td>Yaqoob</td>\n",
       "      <td>400.0</td>\n",
       "      <td>250.0</td>\n",
       "    </tr>\n",
       "  </tbody>\n",
       "</table>\n",
       "</div>"
      ],
      "text/plain": [
       "             date        country       name  sales_2020  sales_2021\n",
       "0      2022-12-01  United States   Shahzaib       200.0         NaN\n",
       "1  Year-Month-day  United States  shaahzaib       300.0       250.0\n",
       "2  Year-Month-day  United States      yaqob         NaN       400.0\n",
       "3  Year-Month-day  United States     Yaqoob       400.0       250.0"
      ]
     },
     "execution_count": 174,
     "metadata": {},
     "output_type": "execute_result"
    }
   ],
   "source": [
    "country={\"USA\":\"United States\",\"U.S.A.\":\"United States\",\"America\":\"United States\"}\n",
    "df_data['country']=df_data['country'].replace(country)\n",
    "df_data\n"
   ]
  },
  {
   "cell_type": "markdown",
   "metadata": {},
   "source": [
    "## **Typographical Errors**\n"
   ]
  },
  {
   "cell_type": "code",
   "execution_count": 175,
   "metadata": {},
   "outputs": [
    {
     "data": {
      "text/html": [
       "<div>\n",
       "<style scoped>\n",
       "    .dataframe tbody tr th:only-of-type {\n",
       "        vertical-align: middle;\n",
       "    }\n",
       "\n",
       "    .dataframe tbody tr th {\n",
       "        vertical-align: top;\n",
       "    }\n",
       "\n",
       "    .dataframe thead th {\n",
       "        text-align: right;\n",
       "    }\n",
       "</style>\n",
       "<table border=\"1\" class=\"dataframe\">\n",
       "  <thead>\n",
       "    <tr style=\"text-align: right;\">\n",
       "      <th></th>\n",
       "      <th>date</th>\n",
       "      <th>country</th>\n",
       "      <th>name</th>\n",
       "      <th>sales_2020</th>\n",
       "      <th>sales_2021</th>\n",
       "    </tr>\n",
       "  </thead>\n",
       "  <tbody>\n",
       "    <tr>\n",
       "      <th>0</th>\n",
       "      <td>2022-12-01</td>\n",
       "      <td>United States</td>\n",
       "      <td>Shahzaib</td>\n",
       "      <td>200.0</td>\n",
       "      <td>NaN</td>\n",
       "    </tr>\n",
       "    <tr>\n",
       "      <th>1</th>\n",
       "      <td>Year-Month-day</td>\n",
       "      <td>United States</td>\n",
       "      <td>Shahzaib</td>\n",
       "      <td>300.0</td>\n",
       "      <td>250.0</td>\n",
       "    </tr>\n",
       "    <tr>\n",
       "      <th>2</th>\n",
       "      <td>Year-Month-day</td>\n",
       "      <td>United States</td>\n",
       "      <td>Yaqoob</td>\n",
       "      <td>NaN</td>\n",
       "      <td>400.0</td>\n",
       "    </tr>\n",
       "    <tr>\n",
       "      <th>3</th>\n",
       "      <td>Year-Month-day</td>\n",
       "      <td>United States</td>\n",
       "      <td>Yaqoob</td>\n",
       "      <td>400.0</td>\n",
       "      <td>250.0</td>\n",
       "    </tr>\n",
       "  </tbody>\n",
       "</table>\n",
       "</div>"
      ],
      "text/plain": [
       "             date        country      name  sales_2020  sales_2021\n",
       "0      2022-12-01  United States  Shahzaib       200.0         NaN\n",
       "1  Year-Month-day  United States  Shahzaib       300.0       250.0\n",
       "2  Year-Month-day  United States    Yaqoob         NaN       400.0\n",
       "3  Year-Month-day  United States    Yaqoob       400.0       250.0"
      ]
     },
     "execution_count": 175,
     "metadata": {},
     "output_type": "execute_result"
    }
   ],
   "source": [
    "Name={\"shaahzaib\":\"Shahzaib\",\"yaqob\":\"Yaqoob\"}\n",
    "df_data[\"name\"]=df_data['name'].replace(Name)\n",
    "df_data"
   ]
  },
  {
   "cell_type": "markdown",
   "metadata": {},
   "source": [
    "## **Duplication of Data**"
   ]
  },
  {
   "cell_type": "code",
   "execution_count": 176,
   "metadata": {},
   "outputs": [],
   "source": [
    "# df_data.drop_duplicates(subset='name')"
   ]
  },
  {
   "cell_type": "markdown",
   "metadata": {},
   "source": [
    "## **Contradictory Data**"
   ]
  },
  {
   "cell_type": "code",
   "execution_count": 177,
   "metadata": {},
   "outputs": [
    {
     "data": {
      "text/html": [
       "<div>\n",
       "<style scoped>\n",
       "    .dataframe tbody tr th:only-of-type {\n",
       "        vertical-align: middle;\n",
       "    }\n",
       "\n",
       "    .dataframe tbody tr th {\n",
       "        vertical-align: top;\n",
       "    }\n",
       "\n",
       "    .dataframe thead th {\n",
       "        text-align: right;\n",
       "    }\n",
       "</style>\n",
       "<table border=\"1\" class=\"dataframe\">\n",
       "  <thead>\n",
       "    <tr style=\"text-align: right;\">\n",
       "      <th></th>\n",
       "      <th>date</th>\n",
       "      <th>country</th>\n",
       "      <th>name</th>\n",
       "      <th>sales_2020</th>\n",
       "      <th>sales_2021</th>\n",
       "    </tr>\n",
       "  </thead>\n",
       "  <tbody>\n",
       "    <tr>\n",
       "      <th>0</th>\n",
       "      <td>2022-12-01</td>\n",
       "      <td>United States</td>\n",
       "      <td>Shahzaib</td>\n",
       "      <td>200.0</td>\n",
       "      <td>NaN</td>\n",
       "    </tr>\n",
       "    <tr>\n",
       "      <th>2</th>\n",
       "      <td>Year-Month-day</td>\n",
       "      <td>United States</td>\n",
       "      <td>Yaqoob</td>\n",
       "      <td>NaN</td>\n",
       "      <td>400.0</td>\n",
       "    </tr>\n",
       "  </tbody>\n",
       "</table>\n",
       "</div>"
      ],
      "text/plain": [
       "             date        country      name  sales_2020  sales_2021\n",
       "0      2022-12-01  United States  Shahzaib       200.0         NaN\n",
       "2  Year-Month-day  United States    Yaqoob         NaN       400.0"
      ]
     },
     "execution_count": 177,
     "metadata": {},
     "output_type": "execute_result"
    }
   ],
   "source": [
    "df_data.drop(df_data[df_data['sales_2020']>=df_data['sales_2021']].index)"
   ]
  }
 ],
 "metadata": {
  "kernelspec": {
   "display_name": "Python_ML",
   "language": "python",
   "name": "python3"
  },
  "language_info": {
   "codemirror_mode": {
    "name": "ipython",
    "version": 3
   },
   "file_extension": ".py",
   "mimetype": "text/x-python",
   "name": "python",
   "nbconvert_exporter": "python",
   "pygments_lexer": "ipython3",
   "version": "3.12.0"
  }
 },
 "nbformat": 4,
 "nbformat_minor": 2
}
