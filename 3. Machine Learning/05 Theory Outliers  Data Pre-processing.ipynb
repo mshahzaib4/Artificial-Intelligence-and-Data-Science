{
 "cells": [
  {
   "cell_type": "markdown",
   "metadata": {},
   "source": [
    "<div style=\"text-align: center; font-family: 'Times New Roman', Times, serif; background-color: #f5f5f5; padding: 20px; border-radius: 10px; box-shadow: 0 0 10px rgba(0, 0, 0, 0.1);\">\n",
    "\n",
    "  <h1 style=\"color: #333; text-decoration: underline;\">Python</h1>\n",
    "  <h1 style=\"color: #333; text-decoration: underline;\">Machine Learning</h1>\n",
    "  <div style=\"font-style: italic; margin-top: 10px; color: #555;\">Notebook Author: Shahzaib Yaqoob</div>\n",
    "  <div style=\"font-weight: bold; margin-top: 5px; color: #555;\">Gmail: shahzaibmalik4488@gmail.com</div>\n",
    "  <p style=\"margin-top: 20px; color: #777;\">Welcome to the world of Python and Machine Learning! Feel free to explore and innovate.</p>\n",
    "  \n",
    "  <!-- Navigation Links -->\n",
    "  <div style=\"margin-top: 20px;\">\n",
    "    <a href=\"#tutorials\" style=\"color: #555; margin-right: 20px;\">Tutorials</a>\n",
    "    <a href=\"#resources\" style=\"color: #555; margin-right: 20px;\">Resources</a>\n",
    "    <a href=\"#examples\" style=\"color: #555;\">Examples</a>\n",
    "  </div>\n",
    "\n",
    "  <!-- Code Snippet -->\n",
    "  <div style=\"margin-top: 20px;\">\n",
    "    <code style=\"background-color: #ddd; padding: 5px; color:#555\">print(\"Hello, Python and Machine Learning!\")</code>\n",
    "  </div>\n",
    "\n",
    "  <!-- Social Media Links -->\n",
    "  <div style=\"margin-top: 20px;\">\n",
    "    <a href=\"https://github.com/shahzaiby\" style=\"color: #555; margin-right: 20px;\">GitHub</a>\n",
    "    <a href=\"https://www.linkedin.com/in/shahzaibyaqoob/\" style=\"color: #555; margin-right: 20px;\">LinkedIn</a>\n",
    "    <a href=\"https://twitter.com/shahzaib\" style=\"color: #555;\">Twitter</a>\n",
    "  </div>\n",
    "\n",
    "  <!-- Additional Styling -->\n",
    "  <style>\n",
    "    /* Add your additional styling here */\n",
    "    a:hover {\n",
    "      text-decoration: underline;\n",
    "    }\n",
    "  </style>\n",
    "\n",
    "  <!-- Footer -->\n",
    "  <div style=\"margin-top: 20px; color: #555;\">\n",
    "    &copy; 2023 Shahzaib Yaqoob. All rights reserved.\n",
    "  </div>\n",
    "  \n",
    "</div>\n"
   ]
  },
  {
   "cell_type": "markdown",
   "metadata": {},
   "source": [
    "# `outliers`\n",
    "An outlier in statistics is a data point that is significantly different from other data points in a dataset, and it can affect the accuracy of statistical analyses and skew results."
   ]
  },
  {
   "cell_type": "markdown",
   "metadata": {},
   "source": [
    "# Types of Outliers\n",
    "\n",
    "## Univariate Outliers\n",
    "- **Definition:** Outliers that exist only in one variable.\n",
    "- **Example:** If your data only has the age variable, outliers in age would be considered univariate outliers.\n",
    "\n",
    "## Multivariate Outliers\n",
    "- **Definition:** Outliers that exist in more than one variable.\n",
    "- **Example:** If your data has both age and income variables, outliers in both age and income would be multivariate outliers.\n",
    "\n",
    "## Global Outliers\n",
    "- **Definition:** Outliers that exist in the entire dataset.\n",
    "- **Example:** If your data has both age and income variables, age and income outliers will be considered multivariate outliers.\n",
    "\n",
    "## Local Outliers\n",
    "- **Definition:** Outliers that are only present in one cluster.\n",
    "- **Example:** In a dataset with both age and income variables, outliers of age and income within a specific group can be considered local outliers.\n",
    "\n",
    "## Contextual Outliers\n",
    "- **What:** Unusually different values, but only within a specific situation or group.\n",
    "- **Example:** In a group of friends' ages, one person might be much older or younger than the others,guests.\n",
    "\n",
    "## Point Outliers\n",
    "- **Definition:** Outliers that exist only in one point.\n",
    "- **Example:** In a dataset with both age and income variables, outliers for age and income at a specific point can be considered multivariate outliers.\n",
    "\n",
    "## Collective Outliers\n",
    "- **What:** A group of things that are all very different from what's expected.\n",
    "- **Example:** In a group of animals, a family with completely different behavior compared to the rest.\n"
   ]
  },
  {
   "cell_type": "markdown",
   "metadata": {},
   "source": [
    "----\n",
    "---"
   ]
  },
  {
   "cell_type": "markdown",
   "metadata": {},
   "source": [
    "# **`Causes of Outliers`**\n",
    "\n",
    "## Data Entry Errors\n",
    "- **Description:** Outliers can occur during data entry due to human error.\n",
    "- **Example:** If your data has an age variable, and someone enters 1000 years instead of 100 years, that would be an outlier.\n",
    "\n",
    "## Measurement Errors\n",
    "- **Description:** Outliers can result from errors made during the measurement process.\n",
    "- **Example:** In a height variable, if someone measures it as 50 feet instead of 5 feet, it will be an outlier.\n",
    "\n",
    "## Reaction Time Experiments\n",
    "- **Description:** Outliers can occur in reaction time experiments due to unexpected external factors.\n",
    "- **Example:** In a weight variable, if someone measures the weight as 200 kg instead of 40 kg due to a malfunctioning temperature control, it would be an outlier.\n",
    "\n",
    "## Intentional Outliers\n",
    "- **Description:** Outliers intentionally added to the data.\n",
    "- **Example:** If there is an age variable, and someone intentionally enters 1000 years instead of 100 years, it will be an outlier.\n",
    "\n",
    "## Natural Variation\n",
    "- **Description:** Outliers in the data could be due to natural events.\n",
    "- **Example:** In a study of daily temperatures over a year, an unseasonably hot or cold day might be an outlier due to natural weather variations.\n"
   ]
  },
  {
   "cell_type": "markdown",
   "metadata": {},
   "source": [
    "---"
   ]
  },
  {
   "cell_type": "markdown",
   "metadata": {},
   "source": [
    "# **Importance of Identifying Outliers**\n",
    "\n",
    "## Unveiling Hidden Patterns\n",
    "- **Significance:** Outliers serve as hidden clues in data, helping uncover concealed patterns.\n",
    "- **Action:** Identifying outliers enables the discovery of underlying trends and relationships.\n",
    "\n",
    "## Enhancing Data Quality\n",
    "- **Impact:** Outliers can diminish data quality.\n",
    "- **Action:** Identifying and addressing outliers contributes to improved data quality.\n",
    "\n",
    "## Ensuring Accurate Analysis\n",
    "- **Challenge:** Outliers introduce errors in analysis.\n",
    "- **Action:** Detecting outliers is crucial for refining analytical processes and ensuring accuracy.\n",
    "\n",
    "## Informed Decision-Making\n",
    "- **Influence:** Outliers can adversely affect decision outcomes.\n",
    "- **Action:** Identifying outliers empowers better decision-making processes.\n",
    "\n",
    "## Improving Model Accuracy\n",
    "- **Issue:** Outliers may compromise model accuracy.\n",
    "- **Action:** Identification of outliers is key to building more robust and accurate models.\n",
    "\n",
    "## Gaining Deeper Insights\n",
    "- **Impact:** Outliers can distort the interpretation of insights.\n",
    "- **Action:** Identifying outliers enhances the depth and accuracy of insights drawn from the data.\n",
    "\n",
    "## Enhancing Visualization Quality\n",
    "- **Challenge:** Outliers may degrade the quality of visualizations.\n",
    "- **Action:** Detecting and addressing outliers contributes to creating more meaningful visualizations.\n",
    "\n",
    "## Compelling Storytelling\n",
    "- **Impact:** Outliers influence the narrative of data stories.\n",
    "- **Action:** Identifying outliers enhances the coherence and persuasiveness of storytelling.\n",
    "\n",
    "## Optimizing Data Products\n",
    "- **Consequence:** Outliers can compromise the quality of data products.\n",
    "- **Action:** Identifying and addressing outliers is crucial for optimizing the quality of data products.\n",
    "\n",
    "## Elevating Data Science Quality\n",
    "- **Impact:** Outliers may diminish the quality of data science processes.\n",
    "- **Action:** Identification and management of outliers contribute to better overall data science quality.\n"
   ]
  },
  {
   "cell_type": "markdown",
   "metadata": {},
   "source": [
    "---"
   ]
  },
  {
   "cell_type": "markdown",
   "metadata": {},
   "source": [
    "# **Detecting and Removing Outliers**\n",
    "\n",
    "Outliers are extreme values in a dataset that can significantly impact statistical analyses. Identifying and handling outliers is crucial for obtaining accurate insights from your data.\n",
    "\n",
    "## Detecting Outliers\n",
    "\n",
    "Common methods for detecting outliers include:\n",
    "\n",
    "### 1. Z-Score\n",
    "   - Calculate the Z-Score for each data point to measure its deviation from the mean.\n",
    "\n",
    "### 2. IQR (Interquartile Range)\n",
    "   - Identify outliers based on values outside the interquartile range.\n",
    "\n",
    "### 3. Visualization\n",
    "   - Use box plots or scatter plots to visually spot data points that stand out.\n"
   ]
  }
 ],
 "metadata": {
  "language_info": {
   "name": "python"
  }
 },
 "nbformat": 4,
 "nbformat_minor": 2
}
