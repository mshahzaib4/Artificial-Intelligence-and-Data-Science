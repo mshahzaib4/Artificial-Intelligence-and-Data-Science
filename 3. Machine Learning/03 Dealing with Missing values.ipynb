{
 "cells": [
  {
   "cell_type": "markdown",
   "metadata": {},
   "source": [
    "<div style=\"text-align: center; font-family: 'Times New Roman', Times, serif; background-color: #f5f5f5; padding: 20px; border-radius: 10px; box-shadow: 0 0 10px rgba(0, 0, 0, 0.1);\">\n",
    "\n",
    "  <h1 style=\"color: #333; text-decoration: underline;\">Python</h1>\n",
    "  <h1 style=\"color: #333; text-decoration: underline;\">Machine Learning</h1>\n",
    "  <div style=\"font-style: italic; margin-top: 10px; color: #555;\">Notebook Author: Shahzaib Yaqoob</div>\n",
    "  <div style=\"font-weight: bold; margin-top: 5px; color: #555;\">Gmail: shahzaibmalik4488@gmail.com</div>\n",
    "  <p style=\"margin-top: 20px; color: #777;\">Welcome to the world of Python and Machine Learning! Feel free to explore and innovate.</p>\n",
    "  \n",
    "  <!-- Navigation Links -->\n",
    "  <div style=\"margin-top: 20px;\">\n",
    "    <a href=\"#tutorials\" style=\"color: #555; margin-right: 20px;\">Tutorials</a>\n",
    "    <a href=\"#resources\" style=\"color: #555; margin-right: 20px;\">Resources</a>\n",
    "    <a href=\"#examples\" style=\"color: #555;\">Examples</a>\n",
    "  </div>\n",
    "\n",
    "  <!-- Code Snippet -->\n",
    "  <div style=\"margin-top: 20px;\">\n",
    "    <code style=\"background-color: #ddd; padding: 5px; color:#555\">print(\"Hello, Python and Machine Learning!\")</code>\n",
    "  </div>\n",
    "\n",
    "  <!-- Social Media Links -->\n",
    "  <div style=\"margin-top: 20px;\">\n",
    "    <a href=\"https://github.com/shahzaiby\" style=\"color: #555; margin-right: 20px;\">GitHub</a>\n",
    "    <a href=\"https://www.linkedin.com/in/shahzaibyaqoob/\" style=\"color: #555; margin-right: 20px;\">LinkedIn</a>\n",
    "    <a href=\"https://twitter.com/shahzaib\" style=\"color: #555;\">Twitter</a>\n",
    "  </div>\n",
    "\n",
    "  <!-- Additional Styling -->\n",
    "  <style>\n",
    "    /* Add your additional styling here */\n",
    "    a:hover {\n",
    "      text-decoration: underline;\n",
    "    }\n",
    "  </style>\n",
    "\n",
    "  <!-- Footer -->\n",
    "  <div style=\"margin-top: 20px; color: #555;\">\n",
    "    &copy; 2023 Shahzaib Yaqoob. All rights reserved.\n",
    "  </div>\n",
    "  \n",
    "</div>\n"
   ]
  },
  {
   "cell_type": "code",
   "execution_count": 75,
   "metadata": {},
   "outputs": [],
   "source": [
    "import pandas as pd\n",
    "import seaborn as sns\n",
    "import numpy as np\n",
    "import matplotlib.pyplot as plt"
   ]
  },
  {
   "cell_type": "code",
   "execution_count": 76,
   "metadata": {},
   "outputs": [
    {
     "name": "stdout",
     "output_type": "stream",
     "text": [
      "Missing Values in each Columns\n",
      "Age    2\n",
      "dtype: int64\n",
      "\n",
      "Percentage of Missing Values in each Columns\n",
      "\n",
      "Age    16.667\n",
      "dtype: float64\n"
     ]
    },
    {
     "data": {
      "text/plain": [
       "<Axes: >"
      ]
     },
     "execution_count": 76,
     "metadata": {},
     "output_type": "execute_result"
    },
    {
     "data": {
      "image/png": "[encoded data removed]",
      "text/plain": [
       "<Figure size 1000x500 with 2 Axes>"
      ]
     },
     "metadata": {},
     "output_type": "display_data"
    }
   ],
   "source": [
    "data = pd.DataFrame({'Age': [10, 30, 40, 55, 66, 70, np.nan, 99, 99, 105, np.nan, 85]})\n",
    "print(\"Missing Values in each Columns\")\n",
    "print(data.isnull().sum().sort_values(ascending=False))\n",
    "print(\"\\nPercentage of Missing Values in each Columns\\n\")\n",
    "print(round(((data.isnull().sum()/len(data))*100),3).sort_values(ascending=False))\n",
    "plt.figure(figsize=(10,5))\n",
    "sns.heatmap(data=data.isnull())"
   ]
  },
  {
   "cell_type": "markdown",
   "metadata": {},
   "source": [
    "## **Replace the missing values**\n",
    "- **`Mean:`** Mean is the average of a set of numbers. It is calculated by dividing the sum of the numbers by the total number of numbers in the set.\n",
    "- **`Mode: `** The mode is the value that appears most frequently in a data set. \n",
    "- **`Median`** The median is the middle value in a data set. \n",
    "- **`fillna`** The fillna() method replaces the NULL values with a specified value."
   ]
  },
  {
   "cell_type": "markdown",
   "metadata": {},
   "source": []
  },
  {
   "cell_type": "markdown",
   "metadata": {},
   "source": [
    "## `Mean`"
   ]
  },
  {
   "cell_type": "code",
   "execution_count": 77,
   "metadata": {},
   "outputs": [
    {
     "name": "stdout",
     "output_type": "stream",
     "text": [
      ":::::::::: Orginal Data ::::::::::\n",
      "      Age\n",
      "0    10.0\n",
      "1    30.0\n",
      "2    40.0\n",
      "3    55.0\n",
      "4    66.0\n",
      "5    70.0\n",
      "6     NaN\n",
      "7    99.0\n",
      "8    99.0\n",
      "9   105.0\n",
      "10    NaN\n",
      "11   85.0\n",
      ":::::::::: Replace Missing Values ::::::::::\n"
     ]
    },
    {
     "data": {
      "text/plain": [
       "0      10.0\n",
       "1      30.0\n",
       "2      40.0\n",
       "3      55.0\n",
       "4      66.0\n",
       "5      70.0\n",
       "6      65.9\n",
       "7      99.0\n",
       "8      99.0\n",
       "9     105.0\n",
       "10     65.9\n",
       "11     85.0\n",
       "Name: Age, dtype: float64"
      ]
     },
     "execution_count": 77,
     "metadata": {},
     "output_type": "execute_result"
    }
   ],
   "source": [
    "Mean_data = pd.DataFrame({'Age': [10, 30, 40, 55, 66, 70, np.nan, 99, 99, 105, np.nan, 85]})\n",
    "print(\":::::::::: Orginal Data ::::::::::\")\n",
    "print(Mean_data)\n",
    "print(\":::::::::: Replace Missing Values ::::::::::\")\n",
    "Mean=Mean_data['Age'].mean()\n",
    "\n",
    "Mean_data['Age'] = Mean_data['Age'].fillna(Mean)\n",
    "Mean_data['Age']\n",
    "\n"
   ]
  },
  {
   "cell_type": "markdown",
   "metadata": {},
   "source": [
    "## ` Mode`"
   ]
  },
  {
   "cell_type": "code",
   "execution_count": 78,
   "metadata": {},
   "outputs": [
    {
     "name": "stdout",
     "output_type": "stream",
     "text": [
      "----------------------------------------\n",
      "The data with missing value:\n",
      " {data}\n",
      "----------------------------------------\n",
      "Here is the data without missing value:\n",
      "      Fruit\n",
      "0    Apple\n",
      "1   Banana\n",
      "2    Apple\n",
      "3   Banana\n",
      "4    Apple\n",
      "5   Banana\n",
      "6    Apple\n",
      "7   Banana\n",
      "8    Apple\n",
      "9   Banana\n",
      "10  Banana\n",
      "11  Banana\n"
     ]
    }
   ],
   "source": [
    "# Create the data categorical data with mode and missing value\n",
    "data = pd.DataFrame({'Fruit': ['Apple', 'Banana', 'Apple', 'Banana', 'Apple', 'Banana', 'Apple', 'Banana', 'Apple', 'Banana', np.nan, 'Banana']})\n",
    "\n",
    "# Print the data with missing value\n",
    "print(\"----------------------------------------\")\n",
    "print(\"The data with missing value:\\n {data}\")\n",
    "\n",
    "# Find the mode\n",
    "mode = data['Fruit'].mode()[0]\n",
    "\n",
    "# Replace the missing values with mode\n",
    "data['Fruit'] = data['Fruit'].fillna(mode)\n",
    "print(\"----------------------------------------\")\n",
    "# Print the data without missing value\n",
    "print(f\"Here is the data without missing value:\\n {data}\")"
   ]
  },
  {
   "cell_type": "markdown",
   "metadata": {},
   "source": [
    "## `Median`"
   ]
  },
  {
   "cell_type": "code",
   "execution_count": 79,
   "metadata": {},
   "outputs": [
    {
     "name": "stdout",
     "output_type": "stream",
     "text": [
      ":::::::::: Orginal Data ::::::::::\n",
      "      Age\n",
      "0    10.0\n",
      "1    30.0\n",
      "2    40.0\n",
      "3    55.0\n",
      "4    66.0\n",
      "5    70.0\n",
      "6     NaN\n",
      "7    99.0\n",
      "8    99.0\n",
      "9   105.0\n",
      "10    NaN\n",
      "11   85.0\n",
      ":::::::::: Replace Missing Values ::::::::::\n",
      "0      10.0\n",
      "1      30.0\n",
      "2      40.0\n",
      "3      55.0\n",
      "4      66.0\n",
      "5      70.0\n",
      "6      68.0\n",
      "7      99.0\n",
      "8      99.0\n",
      "9     105.0\n",
      "10     68.0\n",
      "11     85.0\n",
      "Name: Age, dtype: float64\n"
     ]
    }
   ],
   "source": [
    "Median_data = pd.DataFrame({'Age': [10, 30, 40, 55, 66, 70, np.nan, 99, 99, 105, np.nan, 85]})\n",
    "print(\":::::::::: Orginal Data ::::::::::\")\n",
    "print(Median_data)\n",
    "print(\":::::::::: Replace Missing Values ::::::::::\")\n",
    "Median=Median_data['Age'].median()\n",
    "\n",
    "Median_data['Age'] = Median_data['Age'].fillna(Median)\n",
    "print(Median_data['Age'])\n",
    "\n"
   ]
  },
  {
   "cell_type": "markdown",
   "metadata": {},
   "source": [
    "- ## **Load Titanic Data**"
   ]
  },
  {
   "cell_type": "code",
   "execution_count": 80,
   "metadata": {},
   "outputs": [
    {
     "data": {
      "text/html": [
       "<div>\n",
       "<style scoped>\n",
       "    .dataframe tbody tr th:only-of-type {\n",
       "        vertical-align: middle;\n",
       "    }\n",
       "\n",
       "    .dataframe tbody tr th {\n",
       "        vertical-align: top;\n",
       "    }\n",
       "\n",
       "    .dataframe thead th {\n",
       "        text-align: right;\n",
       "    }\n",
       "</style>\n",
       "<table border=\"1\" class=\"dataframe\">\n",
       "  <thead>\n",
       "    <tr style=\"text-align: right;\">\n",
       "      <th></th>\n",
       "      <th>survived</th>\n",
       "      <th>pclass</th>\n",
       "      <th>sex</th>\n",
       "      <th>age</th>\n",
       "      <th>sibsp</th>\n",
       "      <th>parch</th>\n",
       "      <th>fare</th>\n",
       "      <th>embarked</th>\n",
       "      <th>class</th>\n",
       "      <th>who</th>\n",
       "      <th>adult_male</th>\n",
       "      <th>deck</th>\n",
       "      <th>embark_town</th>\n",
       "      <th>alive</th>\n",
       "      <th>alone</th>\n",
       "    </tr>\n",
       "  </thead>\n",
       "  <tbody>\n",
       "    <tr>\n",
       "      <th>0</th>\n",
       "      <td>0</td>\n",
       "      <td>3</td>\n",
       "      <td>male</td>\n",
       "      <td>22.0</td>\n",
       "      <td>1</td>\n",
       "      <td>0</td>\n",
       "      <td>7.2500</td>\n",
       "      <td>S</td>\n",
       "      <td>Third</td>\n",
       "      <td>man</td>\n",
       "      <td>True</td>\n",
       "      <td>NaN</td>\n",
       "      <td>Southampton</td>\n",
       "      <td>no</td>\n",
       "      <td>False</td>\n",
       "    </tr>\n",
       "    <tr>\n",
       "      <th>1</th>\n",
       "      <td>1</td>\n",
       "      <td>1</td>\n",
       "      <td>female</td>\n",
       "      <td>38.0</td>\n",
       "      <td>1</td>\n",
       "      <td>0</td>\n",
       "      <td>71.2833</td>\n",
       "      <td>C</td>\n",
       "      <td>First</td>\n",
       "      <td>woman</td>\n",
       "      <td>False</td>\n",
       "      <td>C</td>\n",
       "      <td>Cherbourg</td>\n",
       "      <td>yes</td>\n",
       "      <td>False</td>\n",
       "    </tr>\n",
       "    <tr>\n",
       "      <th>2</th>\n",
       "      <td>1</td>\n",
       "      <td>3</td>\n",
       "      <td>female</td>\n",
       "      <td>26.0</td>\n",
       "      <td>0</td>\n",
       "      <td>0</td>\n",
       "      <td>7.9250</td>\n",
       "      <td>S</td>\n",
       "      <td>Third</td>\n",
       "      <td>woman</td>\n",
       "      <td>False</td>\n",
       "      <td>NaN</td>\n",
       "      <td>Southampton</td>\n",
       "      <td>yes</td>\n",
       "      <td>True</td>\n",
       "    </tr>\n",
       "    <tr>\n",
       "      <th>3</th>\n",
       "      <td>1</td>\n",
       "      <td>1</td>\n",
       "      <td>female</td>\n",
       "      <td>35.0</td>\n",
       "      <td>1</td>\n",
       "      <td>0</td>\n",
       "      <td>53.1000</td>\n",
       "      <td>S</td>\n",
       "      <td>First</td>\n",
       "      <td>woman</td>\n",
       "      <td>False</td>\n",
       "      <td>C</td>\n",
       "      <td>Southampton</td>\n",
       "      <td>yes</td>\n",
       "      <td>False</td>\n",
       "    </tr>\n",
       "    <tr>\n",
       "      <th>4</th>\n",
       "      <td>0</td>\n",
       "      <td>3</td>\n",
       "      <td>male</td>\n",
       "      <td>35.0</td>\n",
       "      <td>0</td>\n",
       "      <td>0</td>\n",
       "      <td>8.0500</td>\n",
       "      <td>S</td>\n",
       "      <td>Third</td>\n",
       "      <td>man</td>\n",
       "      <td>True</td>\n",
       "      <td>NaN</td>\n",
       "      <td>Southampton</td>\n",
       "      <td>no</td>\n",
       "      <td>True</td>\n",
       "    </tr>\n",
       "  </tbody>\n",
       "</table>\n",
       "</div>"
      ],
      "text/plain": [
       "   survived  pclass     sex   age  sibsp  parch     fare embarked  class  \\\n",
       "0         0       3    male  22.0      1      0   7.2500        S  Third   \n",
       "1         1       1  female  38.0      1      0  71.2833        C  First   \n",
       "2         1       3  female  26.0      0      0   7.9250        S  Third   \n",
       "3         1       1  female  35.0      1      0  53.1000        S  First   \n",
       "4         0       3    male  35.0      0      0   8.0500        S  Third   \n",
       "\n",
       "     who  adult_male deck  embark_town alive  alone  \n",
       "0    man        True  NaN  Southampton    no  False  \n",
       "1  woman       False    C    Cherbourg   yes  False  \n",
       "2  woman       False  NaN  Southampton   yes   True  \n",
       "3  woman       False    C  Southampton   yes  False  \n",
       "4    man        True  NaN  Southampton    no   True  "
      ]
     },
     "execution_count": 80,
     "metadata": {},
     "output_type": "execute_result"
    }
   ],
   "source": [
    "Titanic_data=sns.load_dataset(\"titanic\")\n",
    "Titanic_data.head(5)\n"
   ]
  },
  {
   "cell_type": "markdown",
   "metadata": {},
   "source": [
    " ## **Finding Missing Values**"
   ]
  },
  {
   "cell_type": "code",
   "execution_count": 81,
   "metadata": {},
   "outputs": [
    {
     "name": "stdout",
     "output_type": "stream",
     "text": [
      "Missing Values in each Columns\n",
      "deck           688\n",
      "age            177\n",
      "embarked         2\n",
      "embark_town      2\n",
      "survived         0\n",
      "pclass           0\n",
      "sex              0\n",
      "sibsp            0\n",
      "parch            0\n",
      "fare             0\n",
      "class            0\n",
      "who              0\n",
      "adult_male       0\n",
      "alive            0\n",
      "alone            0\n",
      "dtype: int64\n",
      "\n",
      "Percentage of Missing Values in each Columns\n",
      "\n",
      "deck           77.217\n",
      "age            19.865\n",
      "embarked        0.224\n",
      "embark_town     0.224\n",
      "survived        0.000\n",
      "pclass          0.000\n",
      "sex             0.000\n",
      "sibsp           0.000\n",
      "parch           0.000\n",
      "fare            0.000\n",
      "class           0.000\n",
      "who             0.000\n",
      "adult_male      0.000\n",
      "alive           0.000\n",
      "alone           0.000\n",
      "dtype: float64\n"
     ]
    }
   ],
   "source": [
    "print(\"Missing Values in each Columns\")\n",
    "print(Titanic_data.isnull().sum().sort_values(ascending=False))\n",
    "print(\"\\nPercentage of Missing Values in each Columns\\n\")\n",
    "print(round(((Titanic_data.isnull().sum()/len(Titanic_data))*100),3).sort_values(ascending=False))\n"
   ]
  },
  {
   "cell_type": "markdown",
   "metadata": {},
   "source": [
    "# `Plot Graph of Missing values`"
   ]
  },
  {
   "cell_type": "code",
   "execution_count": 82,
   "metadata": {},
   "outputs": [
    {
     "data": {
      "text/plain": [
       "<Axes: >"
      ]
     },
     "execution_count": 82,
     "metadata": {},
     "output_type": "execute_result"
    },
    {
     "data": {
      "image/png": "[encoded data removed]",
      "text/plain": [
       "<Figure size 1000x500 with 2 Axes>"
      ]
     },
     "metadata": {},
     "output_type": "display_data"
    }
   ],
   "source": [
    "plt.figure(figsize=(10,5))\n",
    "sns.heatmap(data=Titanic_data.isnull())"
   ]
  },
  {
   "cell_type": "markdown",
   "metadata": {},
   "source": [
    "> ### Drop columns with a significant number of missing values\n",
    "> ### - **`deck`**"
   ]
  },
  {
   "cell_type": "code",
   "execution_count": 83,
   "metadata": {},
   "outputs": [
    {
     "data": {
      "text/html": [
       "<div>\n",
       "<style scoped>\n",
       "    .dataframe tbody tr th:only-of-type {\n",
       "        vertical-align: middle;\n",
       "    }\n",
       "\n",
       "    .dataframe tbody tr th {\n",
       "        vertical-align: top;\n",
       "    }\n",
       "\n",
       "    .dataframe thead th {\n",
       "        text-align: right;\n",
       "    }\n",
       "</style>\n",
       "<table border=\"1\" class=\"dataframe\">\n",
       "  <thead>\n",
       "    <tr style=\"text-align: right;\">\n",
       "      <th></th>\n",
       "      <th>survived</th>\n",
       "      <th>pclass</th>\n",
       "      <th>sex</th>\n",
       "      <th>age</th>\n",
       "      <th>sibsp</th>\n",
       "      <th>parch</th>\n",
       "      <th>fare</th>\n",
       "      <th>embarked</th>\n",
       "      <th>class</th>\n",
       "      <th>who</th>\n",
       "      <th>adult_male</th>\n",
       "      <th>embark_town</th>\n",
       "      <th>alive</th>\n",
       "      <th>alone</th>\n",
       "    </tr>\n",
       "  </thead>\n",
       "  <tbody>\n",
       "    <tr>\n",
       "      <th>0</th>\n",
       "      <td>0</td>\n",
       "      <td>3</td>\n",
       "      <td>male</td>\n",
       "      <td>22.0</td>\n",
       "      <td>1</td>\n",
       "      <td>0</td>\n",
       "      <td>7.2500</td>\n",
       "      <td>S</td>\n",
       "      <td>Third</td>\n",
       "      <td>man</td>\n",
       "      <td>True</td>\n",
       "      <td>Southampton</td>\n",
       "      <td>no</td>\n",
       "      <td>False</td>\n",
       "    </tr>\n",
       "    <tr>\n",
       "      <th>1</th>\n",
       "      <td>1</td>\n",
       "      <td>1</td>\n",
       "      <td>female</td>\n",
       "      <td>38.0</td>\n",
       "      <td>1</td>\n",
       "      <td>0</td>\n",
       "      <td>71.2833</td>\n",
       "      <td>C</td>\n",
       "      <td>First</td>\n",
       "      <td>woman</td>\n",
       "      <td>False</td>\n",
       "      <td>Cherbourg</td>\n",
       "      <td>yes</td>\n",
       "      <td>False</td>\n",
       "    </tr>\n",
       "    <tr>\n",
       "      <th>2</th>\n",
       "      <td>1</td>\n",
       "      <td>3</td>\n",
       "      <td>female</td>\n",
       "      <td>26.0</td>\n",
       "      <td>0</td>\n",
       "      <td>0</td>\n",
       "      <td>7.9250</td>\n",
       "      <td>S</td>\n",
       "      <td>Third</td>\n",
       "      <td>woman</td>\n",
       "      <td>False</td>\n",
       "      <td>Southampton</td>\n",
       "      <td>yes</td>\n",
       "      <td>True</td>\n",
       "    </tr>\n",
       "    <tr>\n",
       "      <th>3</th>\n",
       "      <td>1</td>\n",
       "      <td>1</td>\n",
       "      <td>female</td>\n",
       "      <td>35.0</td>\n",
       "      <td>1</td>\n",
       "      <td>0</td>\n",
       "      <td>53.1000</td>\n",
       "      <td>S</td>\n",
       "      <td>First</td>\n",
       "      <td>woman</td>\n",
       "      <td>False</td>\n",
       "      <td>Southampton</td>\n",
       "      <td>yes</td>\n",
       "      <td>False</td>\n",
       "    </tr>\n",
       "    <tr>\n",
       "      <th>4</th>\n",
       "      <td>0</td>\n",
       "      <td>3</td>\n",
       "      <td>male</td>\n",
       "      <td>35.0</td>\n",
       "      <td>0</td>\n",
       "      <td>0</td>\n",
       "      <td>8.0500</td>\n",
       "      <td>S</td>\n",
       "      <td>Third</td>\n",
       "      <td>man</td>\n",
       "      <td>True</td>\n",
       "      <td>Southampton</td>\n",
       "      <td>no</td>\n",
       "      <td>True</td>\n",
       "    </tr>\n",
       "  </tbody>\n",
       "</table>\n",
       "</div>"
      ],
      "text/plain": [
       "   survived  pclass     sex   age  sibsp  parch     fare embarked  class  \\\n",
       "0         0       3    male  22.0      1      0   7.2500        S  Third   \n",
       "1         1       1  female  38.0      1      0  71.2833        C  First   \n",
       "2         1       3  female  26.0      0      0   7.9250        S  Third   \n",
       "3         1       1  female  35.0      1      0  53.1000        S  First   \n",
       "4         0       3    male  35.0      0      0   8.0500        S  Third   \n",
       "\n",
       "     who  adult_male  embark_town alive  alone  \n",
       "0    man        True  Southampton    no  False  \n",
       "1  woman       False    Cherbourg   yes  False  \n",
       "2  woman       False  Southampton   yes   True  \n",
       "3  woman       False  Southampton   yes  False  \n",
       "4    man        True  Southampton    no   True  "
      ]
     },
     "execution_count": 83,
     "metadata": {},
     "output_type": "execute_result"
    }
   ],
   "source": [
    "Titanic_data.drop(\"deck\",axis=1,inplace=True)\n",
    "Titanic_data.head(5)\n"
   ]
  },
  {
   "cell_type": "markdown",
   "metadata": {},
   "source": [
    "### Count Missing Valuess"
   ]
  },
  {
   "cell_type": "code",
   "execution_count": 84,
   "metadata": {},
   "outputs": [
    {
     "data": {
      "text/plain": [
       "survived         0\n",
       "pclass           0\n",
       "sex              0\n",
       "age            177\n",
       "sibsp            0\n",
       "parch            0\n",
       "fare             0\n",
       "embarked         2\n",
       "class            0\n",
       "who              0\n",
       "adult_male       0\n",
       "embark_town      2\n",
       "alive            0\n",
       "alone            0\n",
       "dtype: int64"
      ]
     },
     "execution_count": 84,
     "metadata": {},
     "output_type": "execute_result"
    }
   ],
   "source": [
    "Titanic_data.isnull().sum()"
   ]
  },
  {
   "cell_type": "markdown",
   "metadata": {},
   "source": [
    "- Replacing `Embarked`, `age`, `embark_town` missing values with \"mode\" and \"mean\""
   ]
  },
  {
   "cell_type": "code",
   "execution_count": 87,
   "metadata": {},
   "outputs": [],
   "source": [
    "Titanic_data[\"age\"]=Titanic_data['age'].fillna(Titanic_data[\"age\"].mean())\n",
    "Titanic_data[\"embarked\"]=Titanic_data['embarked'].fillna(Titanic_data[\"embarked\"].mode()[0])\n",
    "Titanic_data[\"embark_town\"]=Titanic_data['embark_town'].fillna(Titanic_data[\"embark_town\"].mode()[0])\n"
   ]
  },
  {
   "cell_type": "code",
   "execution_count": 89,
   "metadata": {},
   "outputs": [
    {
     "data": {
      "text/plain": [
       "survived       0\n",
       "pclass         0\n",
       "sex            0\n",
       "age            0\n",
       "sibsp          0\n",
       "parch          0\n",
       "fare           0\n",
       "embarked       0\n",
       "class          0\n",
       "who            0\n",
       "adult_male     0\n",
       "embark_town    0\n",
       "alive          0\n",
       "alone          0\n",
       "dtype: int64"
      ]
     },
     "execution_count": 89,
     "metadata": {},
     "output_type": "execute_result"
    }
   ],
   "source": [
    "Titanic_data.isnull().sum()"
   ]
  }
 ],
 "metadata": {
  "kernelspec": {
   "display_name": "Python_ML",
   "language": "python",
   "name": "python3"
  },
  "language_info": {
   "codemirror_mode": {
    "name": "ipython",
    "version": 3
   },
   "file_extension": ".py",
   "mimetype": "text/x-python",
   "name": "python",
   "nbconvert_exporter": "python",
   "pygments_lexer": "ipython3",
   "version": "3.12.0"
  }
 },
 "nbformat": 4,
 "nbformat_minor": 2
}
